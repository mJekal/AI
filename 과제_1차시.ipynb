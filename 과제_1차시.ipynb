{
  "nbformat": 4,
  "nbformat_minor": 0,
  "metadata": {
    "colab": {
      "provenance": []
    },
    "kernelspec": {
      "name": "python3",
      "display_name": "Python 3"
    },
    "language_info": {
      "name": "python"
    }
  },
  "cells": [
    {
      "cell_type": "code",
      "source": [
        "''' #1. Store the x and y coordinates of a 2D point as a tuple and output the result by calculating the distance (0,0) from the origin.'''\n",
        "\n",
        "import math\n",
        "\n",
        "class cal_distance:\n",
        "  def __init__(self,x,y):\n",
        "    self.distance = (x,y)\n",
        "\n",
        "  def calculation(self):\n",
        "    x,y = self.distance\n",
        "    distance = math.sqrt(x**2 + y**2)\n",
        "    return distance"
      ],
      "metadata": {
        "id": "cSCpv-YprSFz"
      },
      "execution_count": null,
      "outputs": []
    },
    {
      "cell_type": "code",
      "source": [
        "''' #2. Define dictionaries with tuples as keys and corresponding values (e.g., student names and test points), access specific student grades/test point, and print results.'''\n",
        "\n",
        "dic = {('name','min'):('testpoints',10)}\n",
        "\n",
        "print(dic[('name','min')][1])"
      ],
      "metadata": {
        "colab": {
          "base_uri": "https://localhost:8080/"
        },
        "id": "SckJ5cyp2mFk",
        "outputId": "891cd41f-f840-410a-b5da-45659ce25ece"
      },
      "execution_count": null,
      "outputs": [
        {
          "output_type": "stream",
          "name": "stdout",
          "text": [
            "10\n"
          ]
        }
      ]
    },
    {
      "cell_type": "code",
      "source": [
        "''' #3. Swap values using tuples – define two variables, a and b, use tuples to swap values and output the results.'''\n",
        "\n",
        "def swap(a,b):\n",
        "  a,b = b,a\n",
        "  return a,b"
      ],
      "metadata": {
        "id": "gM8OF38T2nXq"
      },
      "execution_count": null,
      "outputs": []
    },
    {
      "cell_type": "code",
      "source": [
        "''' #4. Use tuples in the list to represent structured data and define a tuple list in which each tuple represents a name, age, and city, iterate through the list and print each person’s information.'''\n",
        "\n",
        "people = [\n",
        "    ('Min', 24, 'Daegu'),\n",
        "    ('Jung', 20, 'Busan'),\n",
        "]\n",
        "\n",
        "for person in people:\n",
        "    name, age, city = person\n",
        "    print(name,age,city)"
      ],
      "metadata": {
        "colab": {
          "base_uri": "https://localhost:8080/"
        },
        "id": "PewIYYn02oeH",
        "outputId": "f36d1bd2-a55f-4632-d20b-fc85b8182049"
      },
      "execution_count": null,
      "outputs": [
        {
          "output_type": "stream",
          "name": "stdout",
          "text": [
            "Min 24 Daegu\n",
            "Jung 20 Busan\n"
          ]
        }
      ]
    },
    {
      "cell_type": "code",
      "source": [
        "''' #5. Write the ReLU function defined as follows using conditional.'''\n",
        "\n",
        "def relu(x):\n",
        "  if x >= 0:\n",
        "    return x\n",
        "  else:\n",
        "    return 0"
      ],
      "metadata": {
        "id": "VvIxyFXa2pii"
      },
      "execution_count": null,
      "outputs": []
    },
    {
      "cell_type": "code",
      "source": [
        "''' #6. Write a function that uses the for loop to calculate the Euclidean norm of a vector.'''\n",
        "\n",
        "import math\n",
        "\n",
        "def L1norm(vector):\n",
        "  result = 0\n",
        "  for elem in vector:\n",
        "    result += abs(elem)\n",
        "  return result\n",
        "\n",
        "def L2norm(vector):\n",
        "  result = 0\n",
        "  for elem in vector:\n",
        "    result += elem**2\n",
        "  result = math.sqrt(result)\n",
        "  return result"
      ],
      "metadata": {
        "id": "s_K4OTl72qkd"
      },
      "execution_count": null,
      "outputs": []
    },
    {
      "cell_type": "code",
      "source": [
        "''' #7. Write a function that returns the maximum value to the vector using the for loop and conditiona'''\n",
        "\n",
        "import sys\n",
        "\n",
        "def max(vector):\n",
        "  max_val = -sys.maxsize\n",
        "  for elem in vector:\n",
        "    if elem > max_val:\n",
        "      max_val = elem\n",
        "  return max_val"
      ],
      "metadata": {
        "id": "LLHektGK2rjS"
      },
      "execution_count": null,
      "outputs": []
    },
    {
      "cell_type": "code",
      "source": [
        "''' #8. Write a function that sorts the list in ascending order using the bubble sorting algorithm.'''\n",
        "\n",
        "def bubble_sort(list):\n",
        "  for i in range(len(list),0,-1):\n",
        "    for k in range(1,i):\n",
        "      if list[k]>list[k-1]:\n",
        "        list[k-1], list[k] = list[k],list[k-1]"
      ],
      "metadata": {
        "id": "JThQcPcy2sjP"
      },
      "execution_count": null,
      "outputs": []
    },
    {
      "cell_type": "code",
      "source": [
        "''' #9. Use the Python program to calculate the area of the circle.'''\n",
        "def circle_area(diameter):\n",
        "  diameter //= 2\n",
        "  return diameter**2"
      ],
      "metadata": {
        "id": "78smymBs2thw"
      },
      "execution_count": null,
      "outputs": []
    },
    {
      "cell_type": "code",
      "source": [
        "''' #10. Create a 3d array of shape (2, 2, 2), containing 8 values. Access individual elements and slices.'''\n",
        "\n",
        "arr = [[[1,2],\n",
        "        [3,4]],\n",
        "       [[5,6],\n",
        "        [7,8]]]\n",
        "\n",
        "\n",
        "print(arr[0:3])"
      ],
      "metadata": {
        "colab": {
          "base_uri": "https://localhost:8080/"
        },
        "id": "b4fHxbVh2uiw",
        "outputId": "d4a7a053-a6f6-4181-dcbb-19607941c88e"
      },
      "execution_count": null,
      "outputs": [
        {
          "output_type": "stream",
          "name": "stdout",
          "text": [
            "[[[1, 2], [3, 4]], [[5, 6], [7, 8]]]\n"
          ]
        }
      ]
    }
  ]
}