{
  "nbformat": 4,
  "nbformat_minor": 0,
  "metadata": {
    "colab": {
      "provenance": [],
      "toc_visible": true
    },
    "kernelspec": {
      "name": "python3",
      "display_name": "Python 3"
    },
    "language_info": {
      "name": "python"
    }
  },
  "cells": [
    {
      "cell_type": "markdown",
      "source": [
        "#Introduction to Deep Learning: Basic Concepts, Neural Networks, and Convolutional Neural Networks"
      ],
      "metadata": {
        "id": "VXxq_MIE8wdf"
      }
    },
    {
      "cell_type": "markdown",
      "source": [
        "##Perceptron model"
      ],
      "metadata": {
        "id": "Q34f-kLz9VSr"
      }
    },
    {
      "cell_type": "markdown",
      "source": [
        "###Binary classification with perceptron"
      ],
      "metadata": {
        "id": "AbRQdI0S9ZjH"
      }
    },
    {
      "cell_type": "markdown",
      "source": [
        "For this, we'll use the Iris dataset, which is inbuilt in the sklearn library."
      ],
      "metadata": {
        "id": "Q87Mum_p9TMI"
      }
    },
    {
      "cell_type": "code",
      "source": [
        "from sklearn.linear_model import Perceptron\n",
        "from sklearn.datasets import load_iris\n",
        "from sklearn.model_selection import train_test_split\n",
        "from sklearn.preprocessing import StandardScaler\n",
        "from sklearn.metrics import accuracy_score\n",
        "import pandas as pd"
      ],
      "metadata": {
        "id": "-_JR0EoZ9cpm"
      },
      "execution_count": 64,
      "outputs": []
    },
    {
      "cell_type": "code",
      "source": [
        "# Load the iris dataset\n",
        "iris = load_iris()"
      ],
      "metadata": {
        "id": "h6ayyXAG9Vdg"
      },
      "execution_count": 65,
      "outputs": []
    },
    {
      "cell_type": "code",
      "source": [
        "# Convert sklearn dataset to pandas dataframe\n",
        "df = pd.DataFrame(data= iris.data, columns= iris.feature_names)\n",
        "\n",
        "# Print the shape of the dataframe\n",
        "print(f\"The dataset has {df.shape[0]} rows and {df.shape[1]} columns.\")\n",
        "\n",
        "# Show the first 5 rows of the dataframe\n",
        "print(df.head())"
      ],
      "metadata": {
        "colab": {
          "base_uri": "https://localhost:8080/"
        },
        "id": "cxXQMfwbjeVf",
        "outputId": "50eea9b0-0db2-476e-e70b-7cb7155030e7"
      },
      "execution_count": 61,
      "outputs": [
        {
          "output_type": "stream",
          "name": "stdout",
          "text": [
            "The dataset has 150 rows and 4 columns.\n",
            "   sepal length (cm)  sepal width (cm)  petal length (cm)  petal width (cm)\n",
            "0                5.1               3.5                1.4               0.2\n",
            "1                4.9               3.0                1.4               0.2\n",
            "2                4.7               3.2                1.3               0.2\n",
            "3                4.6               3.1                1.5               0.2\n",
            "4                5.0               3.6                1.4               0.2\n"
          ]
        }
      ]
    },
    {
      "cell_type": "code",
      "source": [
        "# We'll only use two features and two classes for binary classification\n",
        "X = iris.data[:100, :2]\n",
        "y = iris.target[:100]"
      ],
      "metadata": {
        "id": "zE4hcaDU9W2A"
      },
      "execution_count": 66,
      "outputs": []
    },
    {
      "cell_type": "code",
      "source": [
        "# Split data into training and testing sets\n",
        "X_train, X_test, y_train, y_test = train_test_split(X, y, test_size=0.2, random_state=42)"
      ],
      "metadata": {
        "id": "_bXoQnxy9YG5"
      },
      "execution_count": 67,
      "outputs": []
    },
    {
      "cell_type": "code",
      "source": [
        "# Normalize feature data\n",
        "scaler = StandardScaler()\n",
        "X_train = scaler.fit_transform(X_train)\n",
        "X_test = scaler.transform(X_test)"
      ],
      "metadata": {
        "id": "HYvxOzfi9ZwQ"
      },
      "execution_count": 68,
      "outputs": []
    },
    {
      "cell_type": "code",
      "source": [
        "# Initialize and train the perceptron\n",
        "clf = Perceptron(tol=1e-3, random_state=42)\n",
        "clf.fit(X_train, y_train,)"
      ],
      "metadata": {
        "id": "X_qQgQfo9bBg",
        "colab": {
          "base_uri": "https://localhost:8080/",
          "height": 75
        },
        "outputId": "9bedaf4b-b33f-4e2a-8640-1e7cc6b8fa9e"
      },
      "execution_count": 69,
      "outputs": [
        {
          "output_type": "execute_result",
          "data": {
            "text/plain": [
              "Perceptron(random_state=42)"
            ],
            "text/html": [
              "<style>#sk-container-id-2 {color: black;background-color: white;}#sk-container-id-2 pre{padding: 0;}#sk-container-id-2 div.sk-toggleable {background-color: white;}#sk-container-id-2 label.sk-toggleable__label {cursor: pointer;display: block;width: 100%;margin-bottom: 0;padding: 0.3em;box-sizing: border-box;text-align: center;}#sk-container-id-2 label.sk-toggleable__label-arrow:before {content: \"▸\";float: left;margin-right: 0.25em;color: #696969;}#sk-container-id-2 label.sk-toggleable__label-arrow:hover:before {color: black;}#sk-container-id-2 div.sk-estimator:hover label.sk-toggleable__label-arrow:before {color: black;}#sk-container-id-2 div.sk-toggleable__content {max-height: 0;max-width: 0;overflow: hidden;text-align: left;background-color: #f0f8ff;}#sk-container-id-2 div.sk-toggleable__content pre {margin: 0.2em;color: black;border-radius: 0.25em;background-color: #f0f8ff;}#sk-container-id-2 input.sk-toggleable__control:checked~div.sk-toggleable__content {max-height: 200px;max-width: 100%;overflow: auto;}#sk-container-id-2 input.sk-toggleable__control:checked~label.sk-toggleable__label-arrow:before {content: \"▾\";}#sk-container-id-2 div.sk-estimator input.sk-toggleable__control:checked~label.sk-toggleable__label {background-color: #d4ebff;}#sk-container-id-2 div.sk-label input.sk-toggleable__control:checked~label.sk-toggleable__label {background-color: #d4ebff;}#sk-container-id-2 input.sk-hidden--visually {border: 0;clip: rect(1px 1px 1px 1px);clip: rect(1px, 1px, 1px, 1px);height: 1px;margin: -1px;overflow: hidden;padding: 0;position: absolute;width: 1px;}#sk-container-id-2 div.sk-estimator {font-family: monospace;background-color: #f0f8ff;border: 1px dotted black;border-radius: 0.25em;box-sizing: border-box;margin-bottom: 0.5em;}#sk-container-id-2 div.sk-estimator:hover {background-color: #d4ebff;}#sk-container-id-2 div.sk-parallel-item::after {content: \"\";width: 100%;border-bottom: 1px solid gray;flex-grow: 1;}#sk-container-id-2 div.sk-label:hover label.sk-toggleable__label {background-color: #d4ebff;}#sk-container-id-2 div.sk-serial::before {content: \"\";position: absolute;border-left: 1px solid gray;box-sizing: border-box;top: 0;bottom: 0;left: 50%;z-index: 0;}#sk-container-id-2 div.sk-serial {display: flex;flex-direction: column;align-items: center;background-color: white;padding-right: 0.2em;padding-left: 0.2em;position: relative;}#sk-container-id-2 div.sk-item {position: relative;z-index: 1;}#sk-container-id-2 div.sk-parallel {display: flex;align-items: stretch;justify-content: center;background-color: white;position: relative;}#sk-container-id-2 div.sk-item::before, #sk-container-id-2 div.sk-parallel-item::before {content: \"\";position: absolute;border-left: 1px solid gray;box-sizing: border-box;top: 0;bottom: 0;left: 50%;z-index: -1;}#sk-container-id-2 div.sk-parallel-item {display: flex;flex-direction: column;z-index: 1;position: relative;background-color: white;}#sk-container-id-2 div.sk-parallel-item:first-child::after {align-self: flex-end;width: 50%;}#sk-container-id-2 div.sk-parallel-item:last-child::after {align-self: flex-start;width: 50%;}#sk-container-id-2 div.sk-parallel-item:only-child::after {width: 0;}#sk-container-id-2 div.sk-dashed-wrapped {border: 1px dashed gray;margin: 0 0.4em 0.5em 0.4em;box-sizing: border-box;padding-bottom: 0.4em;background-color: white;}#sk-container-id-2 div.sk-label label {font-family: monospace;font-weight: bold;display: inline-block;line-height: 1.2em;}#sk-container-id-2 div.sk-label-container {text-align: center;}#sk-container-id-2 div.sk-container {/* jupyter's `normalize.less` sets `[hidden] { display: none; }` but bootstrap.min.css set `[hidden] { display: none !important; }` so we also need the `!important` here to be able to override the default hidden behavior on the sphinx rendered scikit-learn.org. See: https://github.com/scikit-learn/scikit-learn/issues/21755 */display: inline-block !important;position: relative;}#sk-container-id-2 div.sk-text-repr-fallback {display: none;}</style><div id=\"sk-container-id-2\" class=\"sk-top-container\"><div class=\"sk-text-repr-fallback\"><pre>Perceptron(random_state=42)</pre><b>In a Jupyter environment, please rerun this cell to show the HTML representation or trust the notebook. <br />On GitHub, the HTML representation is unable to render, please try loading this page with nbviewer.org.</b></div><div class=\"sk-container\" hidden><div class=\"sk-item\"><div class=\"sk-estimator sk-toggleable\"><input class=\"sk-toggleable__control sk-hidden--visually\" id=\"sk-estimator-id-2\" type=\"checkbox\" checked><label for=\"sk-estimator-id-2\" class=\"sk-toggleable__label sk-toggleable__label-arrow\">Perceptron</label><div class=\"sk-toggleable__content\"><pre>Perceptron(random_state=42)</pre></div></div></div></div></div>"
            ]
          },
          "metadata": {},
          "execution_count": 69
        }
      ]
    },
    {
      "cell_type": "code",
      "source": [
        "# Make predictions and evaluate the model\n",
        "y_pred = clf.predict(X_test)\n",
        "print('Accuracy: ', accuracy_score(y_test, y_pred))"
      ],
      "metadata": {
        "id": "ZRThd9nX9cV4",
        "colab": {
          "base_uri": "https://localhost:8080/"
        },
        "outputId": "60f30703-278e-487a-a5ed-d9e3d2b746e1"
      },
      "execution_count": 70,
      "outputs": [
        {
          "output_type": "stream",
          "name": "stdout",
          "text": [
            "Accuracy:  1.0\n"
          ]
        }
      ]
    },
    {
      "cell_type": "markdown",
      "source": [
        "##Neural networks"
      ],
      "metadata": {
        "id": "WgqGei-H9fqe"
      }
    },
    {
      "cell_type": "markdown",
      "source": [
        "###Stock price prediction"
      ],
      "metadata": {
        "id": "r4uUv9dk9ilv"
      }
    },
    {
      "cell_type": "markdown",
      "source": [
        "This script trains a simple neural network model using the historical closing prices of Apple's stock (obtained from Yahoo Finance) and uses the trained model to predict the next day's closing price. The prediction is made based on the closing prices of the previous 60 days."
      ],
      "metadata": {
        "id": "eu1_zJWv9qjt"
      }
    },
    {
      "cell_type": "markdown",
      "source": [
        "The input to the model is a vector of the previous 60 days' closing prices, and the output is the predicted closing price for the next day. The model is trained using the Adam optimizer and the mean squared error loss function, which are commonly used for regression problems."
      ],
      "metadata": {
        "id": "CK89Mlpu9tW5"
      }
    },
    {
      "cell_type": "code",
      "source": [
        "import numpy as np\n",
        "import pandas as pd\n",
        "from sklearn.preprocessing import MinMaxScaler\n",
        "import matplotlib.pyplot as plt\n",
        "from tensorflow.keras.models import Sequential\n",
        "from tensorflow.keras.layers import  Dropout, Dense\n",
        "import yfinance as yf"
      ],
      "metadata": {
        "id": "XLGfDimp9ksG"
      },
      "execution_count": 8,
      "outputs": []
    },
    {
      "cell_type": "code",
      "source": [
        "# Load the data\n",
        "data = yf.download('AAPL','2016-01-01','2023-07-01')"
      ],
      "metadata": {
        "id": "zTfX2Kad9xER",
        "colab": {
          "base_uri": "https://localhost:8080/"
        },
        "outputId": "c551f27c-7420-45a9-a81d-07c811125f0e"
      },
      "execution_count": 9,
      "outputs": [
        {
          "output_type": "stream",
          "name": "stdout",
          "text": [
            "\r[*********************100%***********************]  1 of 1 completed\n"
          ]
        }
      ]
    },
    {
      "cell_type": "code",
      "source": [
        "# Preprocess the data\n",
        "# Scale data to range [0, 1]\n",
        "scaler = MinMaxScaler(feature_range=(0, 1))\n",
        "data = scaler.fit_transform(data.values.reshape(-1, 1))"
      ],
      "metadata": {
        "id": "FikYjYQi9yYy"
      },
      "execution_count": 10,
      "outputs": []
    },
    {
      "cell_type": "code",
      "source": [
        "# Prepare input data (use past 60 days' prices to predict the next day's)\n",
        "X = []\n",
        "y = []\n",
        "for i in range(60, len(data)):\n",
        "    X.append(data[i-60:i, 0])\n",
        "    y.append(data[i, 0])\n",
        "X, y = np.array(X), np.array(y)"
      ],
      "metadata": {
        "id": "eGbSkww_9zxh"
      },
      "execution_count": 11,
      "outputs": []
    },
    {
      "cell_type": "code",
      "source": [
        "# Split into training and testing sets\n",
        "X_train, X_test, y_train, y_test = train_test_split(X, y, test_size=0.2, random_state=42)"
      ],
      "metadata": {
        "id": "Ot-1nj0wFQA-"
      },
      "execution_count": 12,
      "outputs": []
    },
    {
      "cell_type": "code",
      "source": [
        "# Create a neural network model\n",
        "model = Sequential()\n",
        "model.add(Dense(units=50, activation='relu', input_dim=60))\n",
        "model.add(Dropout(0.2))\n",
        "model.add(Dense(units=50, activation='relu'))\n",
        "model.add(Dropout(0.2))\n",
        "model.add(Dense(units=1))"
      ],
      "metadata": {
        "id": "jzSYLc-L91RZ"
      },
      "execution_count": 13,
      "outputs": []
    },
    {
      "cell_type": "markdown",
      "source": [
        "The model is compiled with the \"adam\" optimizer and the \"mean_squared_error\" loss function, as we're dealing with a regression problem."
      ],
      "metadata": {
        "id": "k1RI6KLe-Rw6"
      }
    },
    {
      "cell_type": "code",
      "source": [
        "# Compile the model\n",
        "model.compile(optimizer='adam', loss='mean_squared_error')"
      ],
      "metadata": {
        "id": "waJ8zpGH92sp"
      },
      "execution_count": 14,
      "outputs": []
    },
    {
      "cell_type": "markdown",
      "source": [
        "The model is trained using the training data. We then use the model to predict the closing prices for the test data, and plot the predicted closing prices against the actual closing prices."
      ],
      "metadata": {
        "id": "I2-XeOoA-VbC"
      }
    },
    {
      "cell_type": "code",
      "source": [
        "# Train the model\n",
        "model.fit(X_train, y_train, epochs=1, batch_size=32)"
      ],
      "metadata": {
        "id": "7qvlVnHv93xL",
        "colab": {
          "base_uri": "https://localhost:8080/"
        },
        "outputId": "b7d13f2f-71c4-444a-ec4f-787192a9fa31"
      },
      "execution_count": 15,
      "outputs": [
        {
          "output_type": "stream",
          "name": "stdout",
          "text": [
            "282/282 [==============================] - 4s 7ms/step - loss: 0.0025\n"
          ]
        },
        {
          "output_type": "execute_result",
          "data": {
            "text/plain": [
              "<keras.callbacks.History at 0x7d782c4e39a0>"
            ]
          },
          "metadata": {},
          "execution_count": 15
        }
      ]
    },
    {
      "cell_type": "code",
      "source": [
        "# Make predictions on the testing set\n",
        "predicted_prices = model.predict(X_test)\n",
        "predicted_prices = scaler.inverse_transform(predicted_prices)  # inverse transform to get original scale"
      ],
      "metadata": {
        "colab": {
          "base_uri": "https://localhost:8080/"
        },
        "id": "wbEkL09_Fdcv",
        "outputId": "668d55ed-8264-44d5-f64f-64d42549639e"
      },
      "execution_count": 16,
      "outputs": [
        {
          "output_type": "stream",
          "name": "stdout",
          "text": [
            "71/71 [==============================] - 1s 5ms/step\n"
          ]
        }
      ]
    },
    {
      "cell_type": "code",
      "source": [
        "# Print predictions\n",
        "print(predicted_prices)"
      ],
      "metadata": {
        "colab": {
          "base_uri": "https://localhost:8080/"
        },
        "id": "hOxXV9yNFf6e",
        "outputId": "bc81e23d-8c77-4a86-9b3a-ecd384bb5593"
      },
      "execution_count": 17,
      "outputs": [
        {
          "output_type": "stream",
          "name": "stdout",
          "text": [
            "[[-1448987.6]\n",
            " [  516659.8]\n",
            " [  700555.5]\n",
            " ...\n",
            " [ 2006521.5]\n",
            " [ 1486738. ]\n",
            " [-3127379.5]]\n"
          ]
        }
      ]
    },
    {
      "cell_type": "markdown",
      "source": [
        "Finally, the accuracy of the model's predictions is displayed graphically using Matplotlib, where the x-axis represents the date and the y-axis represents the stock price."
      ],
      "metadata": {
        "id": "dnFpVeqb-cEL"
      }
    },
    {
      "cell_type": "code",
      "source": [
        "y_test_unscaled = scaler.inverse_transform(y_test.reshape(-1, 1))"
      ],
      "metadata": {
        "id": "Tbka5QPKFp-G"
      },
      "execution_count": 18,
      "outputs": []
    },
    {
      "cell_type": "code",
      "source": [
        "# Plot the actual vs. predicted values\n",
        "plt.figure(figsize=(14, 8))\n",
        "plt.plot(y_test_unscaled, color='blue', label='Actual Apple Stock Price')\n",
        "plt.plot(predicted_prices, color='red', label='Predicted Apple Stock Price')\n",
        "plt.title('Apple Stock Price Prediction')\n",
        "plt.xlabel('Time')\n",
        "plt.ylabel('Apple Stock Price')\n",
        "plt.legend()\n",
        "plt.show()"
      ],
      "metadata": {
        "id": "sgw9c6-497ax",
        "colab": {
          "base_uri": "https://localhost:8080/",
          "height": 718
        },
        "outputId": "c1590d65-f12c-4f5c-889e-3bc5f0eef495"
      },
      "execution_count": 19,
      "outputs": [
        {
          "output_type": "display_data",
          "data": {
            "text/plain": [
              "<Figure size 1400x800 with 1 Axes>"
            ],
            "image/png": "[encoded data removed]"
          },
          "metadata": {}
        }
      ]
    },
    {
      "cell_type": "markdown",
      "source": [
        "##Feedforward Neural Networks"
      ],
      "metadata": {
        "id": "mvk6KLRK9lTH"
      }
    },
    {
      "cell_type": "markdown",
      "source": [
        "###Time series forecasting"
      ],
      "metadata": {
        "id": "zBjyOjeL9rM_"
      }
    },
    {
      "cell_type": "markdown",
      "source": [
        "We'll use a Multilayer Perceptron (MLP) model with multiple hidden layers to forecast the number of international airline passengers. We'll use the \"international-airline-passengers.csv\" dataset from the Machine Learning Mastery website. An MLP can be a powerful tool for time series forecasting because it can learn to recognize patterns over a sequence of inputs."
      ],
      "metadata": {
        "id": "iM-sXxNu_lNy"
      }
    },
    {
      "cell_type": "code",
      "source": [
        "import pandas as pd\n",
        "import numpy as np\n",
        "from sklearn.preprocessing import MinMaxScaler\n",
        "from tensorflow.keras.models import Sequential\n",
        "from tensorflow.keras.layers import Dense"
      ],
      "metadata": {
        "id": "8QAv80f49tpW"
      },
      "execution_count": 20,
      "outputs": []
    },
    {
      "cell_type": "code",
      "source": [
        "# Helper function to convert series to supervised learning problem\n",
        "def series_to_supervised(data, n_in=1, n_out=1, dropnan=True):\n",
        "    n_vars = 1 if type(data) is list else data.shape[1]\n",
        "    df = pd.DataFrame(data)\n",
        "    cols, names = list(), list()\n",
        "    # input sequence (t-n, ... t-1)\n",
        "    for i in range(n_in, 0, -1):\n",
        "        cols.append(df.shift(i))\n",
        "        names += [('var%d(t-%d)' % (j+1, i)) for j in range(n_vars)]\n",
        "    # forecast sequence (t, t+1, ... t+n)\n",
        "    for i in range(0, n_out):\n",
        "        cols.append(df.shift(-i))\n",
        "        if i == 0:\n",
        "            names += [('var%d(t)' % (j+1)) for j in range(n_vars)]\n",
        "        else:\n",
        "            names += [('var%d(t+%d)' % (j+1, i)) for j in range(n_vars)]\n",
        "    agg = pd.concat(cols, axis=1)\n",
        "    agg.columns = names\n",
        "    # drop rows with NaN values\n",
        "    if dropnan:\n",
        "        agg.dropna(inplace=True)\n",
        "    return agg"
      ],
      "metadata": {
        "id": "7Yo2NE4i_rWa"
      },
      "execution_count": 21,
      "outputs": []
    },
    {
      "cell_type": "code",
      "source": [
        "# Load the dataset\n",
        "url = 'https://raw.githubusercontent.com/jbrownlee/Datasets/master/airline-passengers.csv'\n",
        "dataframe = pd.read_csv(url, usecols=[1], engine='python')\n",
        "dataset = dataframe.values\n",
        "dataset = dataset.astype('float32')"
      ],
      "metadata": {
        "id": "VDUHEumW_s56"
      },
      "execution_count": 22,
      "outputs": []
    },
    {
      "cell_type": "code",
      "source": [
        "# Normalize the dataset\n",
        "scaler = MinMaxScaler(feature_range=(0, 1))\n",
        "dataset = scaler.fit_transform(dataset)"
      ],
      "metadata": {
        "id": "J27jaogs_uf6"
      },
      "execution_count": 23,
      "outputs": []
    },
    {
      "cell_type": "code",
      "source": [
        "# Convert time series to supervised learning problem\n",
        "look_back = 3\n",
        "supervised = series_to_supervised(dataset, look_back, 1)\n",
        "train_size = int(len(supervised) * 0.67)\n",
        "test_size = len(supervised) - train_size\n",
        "train, test = supervised.values[0:train_size,:], supervised.values[train_size:len(supervised),:]"
      ],
      "metadata": {
        "id": "wPxgIXce_wR6"
      },
      "execution_count": 24,
      "outputs": []
    },
    {
      "cell_type": "code",
      "source": [
        "# Split into input (X) and output (Y) variables\n",
        "trainX, trainY = train[:,0:look_back], train[:,look_back:]\n",
        "testX, testY = test[:,0:look_back], test[:,look_back:]"
      ],
      "metadata": {
        "id": "o42dl2Sq_yyS"
      },
      "execution_count": 25,
      "outputs": []
    },
    {
      "cell_type": "markdown",
      "source": [
        "In this code, an MLP model with two hidden layers is used for time series forecasting. The input dimension of the MLP is the number of lagged observations used to predict the current time step (look_back), and the output dimension is 1, as we're predicting a single value. The MLP is trained using the root mean squared error loss function, which is suitable for a regression problem like ours, and the efficient Adam version of stochastic gradient descent. The model is fit over 400 epochs with a batch size of 2."
      ],
      "metadata": {
        "id": "voITdn_m_-xJ"
      }
    },
    {
      "cell_type": "code",
      "source": [
        "# Build the MLP model\n",
        "model = Sequential()\n",
        "model.add(Dense(12, input_dim=look_back, activation='relu'))\n",
        "model.add(Dense(8, activation='relu'))\n",
        "model.add(Dense(1))\n",
        "model.compile(loss='mean_squared_error', optimizer='adam')"
      ],
      "metadata": {
        "id": "0po4HxJy_0ZS"
      },
      "execution_count": 26,
      "outputs": []
    },
    {
      "cell_type": "code",
      "source": [
        "# Fit the MLP model\n",
        "model.fit(trainX, trainY, epochs=400, batch_size=2, verbose=2)"
      ],
      "metadata": {
        "id": "b7fDn4je_2E5",
        "colab": {
          "base_uri": "https://localhost:8080/"
        },
        "outputId": "bbfac4ea-ea67-4691-f5f2-ca78e29c437c"
      },
      "execution_count": 27,
      "outputs": [
        {
          "output_type": "stream",
          "name": "stdout",
          "text": [
            "Epoch 1/400\n",
            "47/47 - 2s - loss: 0.0514 - 2s/epoch - 38ms/step\n",
            "Epoch 2/400\n",
            "47/47 - 0s - loss: 0.0222 - 95ms/epoch - 2ms/step\n",
            "Epoch 3/400\n",
            "47/47 - 0s - loss: 0.0129 - 93ms/epoch - 2ms/step\n",
            "Epoch 4/400\n",
            "47/47 - 0s - loss: 0.0073 - 130ms/epoch - 3ms/step\n",
            "Epoch 5/400\n",
            "47/47 - 0s - loss: 0.0046 - 116ms/epoch - 2ms/step\n",
            "Epoch 6/400\n",
            "47/47 - 0s - loss: 0.0034 - 112ms/epoch - 2ms/step\n",
            "Epoch 7/400\n",
            "47/47 - 0s - loss: 0.0030 - 140ms/epoch - 3ms/step\n",
            "Epoch 8/400\n",
            "47/47 - 0s - loss: 0.0028 - 106ms/epoch - 2ms/step\n",
            "Epoch 9/400\n",
            "47/47 - 0s - loss: 0.0028 - 193ms/epoch - 4ms/step\n",
            "Epoch 10/400\n",
            "47/47 - 0s - loss: 0.0025 - 252ms/epoch - 5ms/step\n",
            "Epoch 11/400\n",
            "47/47 - 0s - loss: 0.0024 - 179ms/epoch - 4ms/step\n",
            "Epoch 12/400\n",
            "47/47 - 0s - loss: 0.0023 - 140ms/epoch - 3ms/step\n",
            "Epoch 13/400\n",
            "47/47 - 0s - loss: 0.0023 - 203ms/epoch - 4ms/step\n",
            "Epoch 14/400\n",
            "47/47 - 0s - loss: 0.0021 - 345ms/epoch - 7ms/step\n",
            "Epoch 15/400\n",
            "47/47 - 0s - loss: 0.0020 - 219ms/epoch - 5ms/step\n",
            "Epoch 16/400\n",
            "47/47 - 0s - loss: 0.0023 - 137ms/epoch - 3ms/step\n",
            "Epoch 17/400\n",
            "47/47 - 0s - loss: 0.0022 - 106ms/epoch - 2ms/step\n",
            "Epoch 18/400\n",
            "47/47 - 0s - loss: 0.0020 - 230ms/epoch - 5ms/step\n",
            "Epoch 19/400\n",
            "47/47 - 0s - loss: 0.0020 - 307ms/epoch - 7ms/step\n",
            "Epoch 20/400\n",
            "47/47 - 0s - loss: 0.0021 - 273ms/epoch - 6ms/step\n",
            "Epoch 21/400\n",
            "47/47 - 0s - loss: 0.0019 - 277ms/epoch - 6ms/step\n",
            "Epoch 22/400\n",
            "47/47 - 0s - loss: 0.0021 - 196ms/epoch - 4ms/step\n",
            "Epoch 23/400\n",
            "47/47 - 0s - loss: 0.0019 - 193ms/epoch - 4ms/step\n",
            "Epoch 24/400\n",
            "47/47 - 0s - loss: 0.0020 - 249ms/epoch - 5ms/step\n",
            "Epoch 25/400\n",
            "47/47 - 0s - loss: 0.0021 - 110ms/epoch - 2ms/step\n",
            "Epoch 26/400\n",
            "47/47 - 0s - loss: 0.0019 - 98ms/epoch - 2ms/step\n",
            "Epoch 27/400\n",
            "47/47 - 0s - loss: 0.0020 - 97ms/epoch - 2ms/step\n",
            "Epoch 28/400\n",
            "47/47 - 0s - loss: 0.0018 - 123ms/epoch - 3ms/step\n",
            "Epoch 29/400\n",
            "47/47 - 0s - loss: 0.0020 - 108ms/epoch - 2ms/step\n",
            "Epoch 30/400\n",
            "47/47 - 0s - loss: 0.0018 - 176ms/epoch - 4ms/step\n",
            "Epoch 31/400\n",
            "47/47 - 0s - loss: 0.0020 - 145ms/epoch - 3ms/step\n",
            "Epoch 32/400\n",
            "47/47 - 0s - loss: 0.0018 - 164ms/epoch - 3ms/step\n",
            "Epoch 33/400\n",
            "47/47 - 0s - loss: 0.0019 - 112ms/epoch - 2ms/step\n",
            "Epoch 34/400\n",
            "47/47 - 0s - loss: 0.0020 - 107ms/epoch - 2ms/step\n",
            "Epoch 35/400\n",
            "47/47 - 0s - loss: 0.0019 - 133ms/epoch - 3ms/step\n",
            "Epoch 36/400\n",
            "47/47 - 0s - loss: 0.0018 - 178ms/epoch - 4ms/step\n",
            "Epoch 37/400\n",
            "47/47 - 0s - loss: 0.0019 - 125ms/epoch - 3ms/step\n",
            "Epoch 38/400\n",
            "47/47 - 0s - loss: 0.0022 - 105ms/epoch - 2ms/step\n",
            "Epoch 39/400\n",
            "47/47 - 0s - loss: 0.0018 - 142ms/epoch - 3ms/step\n",
            "Epoch 40/400\n",
            "47/47 - 0s - loss: 0.0018 - 107ms/epoch - 2ms/step\n",
            "Epoch 41/400\n",
            "47/47 - 0s - loss: 0.0018 - 98ms/epoch - 2ms/step\n",
            "Epoch 42/400\n",
            "47/47 - 0s - loss: 0.0018 - 187ms/epoch - 4ms/step\n",
            "Epoch 43/400\n",
            "47/47 - 0s - loss: 0.0018 - 166ms/epoch - 4ms/step\n",
            "Epoch 44/400\n",
            "47/47 - 0s - loss: 0.0017 - 248ms/epoch - 5ms/step\n",
            "Epoch 45/400\n",
            "47/47 - 0s - loss: 0.0017 - 171ms/epoch - 4ms/step\n",
            "Epoch 46/400\n",
            "47/47 - 0s - loss: 0.0018 - 369ms/epoch - 8ms/step\n",
            "Epoch 47/400\n",
            "47/47 - 0s - loss: 0.0018 - 196ms/epoch - 4ms/step\n",
            "Epoch 48/400\n",
            "47/47 - 0s - loss: 0.0018 - 171ms/epoch - 4ms/step\n",
            "Epoch 49/400\n",
            "47/47 - 0s - loss: 0.0018 - 144ms/epoch - 3ms/step\n",
            "Epoch 50/400\n",
            "47/47 - 0s - loss: 0.0017 - 187ms/epoch - 4ms/step\n",
            "Epoch 51/400\n",
            "47/47 - 0s - loss: 0.0018 - 113ms/epoch - 2ms/step\n",
            "Epoch 52/400\n",
            "47/47 - 0s - loss: 0.0020 - 117ms/epoch - 2ms/step\n",
            "Epoch 53/400\n",
            "47/47 - 0s - loss: 0.0018 - 261ms/epoch - 6ms/step\n",
            "Epoch 54/400\n",
            "47/47 - 0s - loss: 0.0018 - 274ms/epoch - 6ms/step\n",
            "Epoch 55/400\n",
            "47/47 - 0s - loss: 0.0018 - 171ms/epoch - 4ms/step\n",
            "Epoch 56/400\n",
            "47/47 - 0s - loss: 0.0018 - 170ms/epoch - 4ms/step\n",
            "Epoch 57/400\n",
            "47/47 - 0s - loss: 0.0020 - 162ms/epoch - 3ms/step\n",
            "Epoch 58/400\n",
            "47/47 - 0s - loss: 0.0023 - 111ms/epoch - 2ms/step\n",
            "Epoch 59/400\n",
            "47/47 - 0s - loss: 0.0020 - 200ms/epoch - 4ms/step\n",
            "Epoch 60/400\n",
            "47/47 - 0s - loss: 0.0018 - 163ms/epoch - 3ms/step\n",
            "Epoch 61/400\n",
            "47/47 - 0s - loss: 0.0021 - 117ms/epoch - 2ms/step\n",
            "Epoch 62/400\n",
            "47/47 - 0s - loss: 0.0019 - 100ms/epoch - 2ms/step\n",
            "Epoch 63/400\n",
            "47/47 - 0s - loss: 0.0018 - 159ms/epoch - 3ms/step\n",
            "Epoch 64/400\n",
            "47/47 - 0s - loss: 0.0018 - 105ms/epoch - 2ms/step\n",
            "Epoch 65/400\n",
            "47/47 - 0s - loss: 0.0017 - 113ms/epoch - 2ms/step\n",
            "Epoch 66/400\n",
            "47/47 - 0s - loss: 0.0017 - 113ms/epoch - 2ms/step\n",
            "Epoch 67/400\n",
            "47/47 - 0s - loss: 0.0019 - 133ms/epoch - 3ms/step\n",
            "Epoch 68/400\n",
            "47/47 - 0s - loss: 0.0018 - 104ms/epoch - 2ms/step\n",
            "Epoch 69/400\n",
            "47/47 - 0s - loss: 0.0017 - 103ms/epoch - 2ms/step\n",
            "Epoch 70/400\n",
            "47/47 - 0s - loss: 0.0018 - 93ms/epoch - 2ms/step\n",
            "Epoch 71/400\n",
            "47/47 - 0s - loss: 0.0018 - 100ms/epoch - 2ms/step\n",
            "Epoch 72/400\n",
            "47/47 - 0s - loss: 0.0017 - 102ms/epoch - 2ms/step\n",
            "Epoch 73/400\n",
            "47/47 - 0s - loss: 0.0018 - 124ms/epoch - 3ms/step\n",
            "Epoch 74/400\n",
            "47/47 - 0s - loss: 0.0017 - 98ms/epoch - 2ms/step\n",
            "Epoch 75/400\n",
            "47/47 - 0s - loss: 0.0022 - 89ms/epoch - 2ms/step\n",
            "Epoch 76/400\n",
            "47/47 - 0s - loss: 0.0019 - 94ms/epoch - 2ms/step\n",
            "Epoch 77/400\n",
            "47/47 - 0s - loss: 0.0018 - 102ms/epoch - 2ms/step\n",
            "Epoch 78/400\n",
            "47/47 - 0s - loss: 0.0017 - 97ms/epoch - 2ms/step\n",
            "Epoch 79/400\n",
            "47/47 - 0s - loss: 0.0019 - 95ms/epoch - 2ms/step\n",
            "Epoch 80/400\n",
            "47/47 - 0s - loss: 0.0021 - 98ms/epoch - 2ms/step\n",
            "Epoch 81/400\n",
            "47/47 - 0s - loss: 0.0021 - 101ms/epoch - 2ms/step\n",
            "Epoch 82/400\n",
            "47/47 - 0s - loss: 0.0017 - 134ms/epoch - 3ms/step\n",
            "Epoch 83/400\n",
            "47/47 - 0s - loss: 0.0018 - 169ms/epoch - 4ms/step\n",
            "Epoch 84/400\n",
            "47/47 - 0s - loss: 0.0018 - 153ms/epoch - 3ms/step\n",
            "Epoch 85/400\n",
            "47/47 - 0s - loss: 0.0018 - 111ms/epoch - 2ms/step\n",
            "Epoch 86/400\n",
            "47/47 - 0s - loss: 0.0017 - 127ms/epoch - 3ms/step\n",
            "Epoch 87/400\n",
            "47/47 - 0s - loss: 0.0017 - 137ms/epoch - 3ms/step\n",
            "Epoch 88/400\n",
            "47/47 - 0s - loss: 0.0017 - 104ms/epoch - 2ms/step\n",
            "Epoch 89/400\n",
            "47/47 - 0s - loss: 0.0019 - 114ms/epoch - 2ms/step\n",
            "Epoch 90/400\n",
            "47/47 - 0s - loss: 0.0018 - 122ms/epoch - 3ms/step\n",
            "Epoch 91/400\n",
            "47/47 - 0s - loss: 0.0017 - 151ms/epoch - 3ms/step\n",
            "Epoch 92/400\n",
            "47/47 - 0s - loss: 0.0019 - 103ms/epoch - 2ms/step\n",
            "Epoch 93/400\n",
            "47/47 - 0s - loss: 0.0018 - 164ms/epoch - 3ms/step\n",
            "Epoch 94/400\n",
            "47/47 - 0s - loss: 0.0017 - 204ms/epoch - 4ms/step\n",
            "Epoch 95/400\n",
            "47/47 - 0s - loss: 0.0017 - 207ms/epoch - 4ms/step\n",
            "Epoch 96/400\n",
            "47/47 - 0s - loss: 0.0017 - 141ms/epoch - 3ms/step\n",
            "Epoch 97/400\n",
            "47/47 - 0s - loss: 0.0019 - 109ms/epoch - 2ms/step\n",
            "Epoch 98/400\n",
            "47/47 - 0s - loss: 0.0017 - 106ms/epoch - 2ms/step\n",
            "Epoch 99/400\n",
            "47/47 - 0s - loss: 0.0019 - 136ms/epoch - 3ms/step\n",
            "Epoch 100/400\n",
            "47/47 - 0s - loss: 0.0019 - 220ms/epoch - 5ms/step\n",
            "Epoch 101/400\n",
            "47/47 - 0s - loss: 0.0018 - 228ms/epoch - 5ms/step\n",
            "Epoch 102/400\n",
            "47/47 - 0s - loss: 0.0018 - 186ms/epoch - 4ms/step\n",
            "Epoch 103/400\n",
            "47/47 - 0s - loss: 0.0017 - 126ms/epoch - 3ms/step\n",
            "Epoch 104/400\n",
            "47/47 - 0s - loss: 0.0018 - 67ms/epoch - 1ms/step\n",
            "Epoch 105/400\n",
            "47/47 - 0s - loss: 0.0018 - 66ms/epoch - 1ms/step\n",
            "Epoch 106/400\n",
            "47/47 - 0s - loss: 0.0018 - 67ms/epoch - 1ms/step\n",
            "Epoch 107/400\n",
            "47/47 - 0s - loss: 0.0017 - 68ms/epoch - 1ms/step\n",
            "Epoch 108/400\n",
            "47/47 - 0s - loss: 0.0019 - 63ms/epoch - 1ms/step\n",
            "Epoch 109/400\n",
            "47/47 - 0s - loss: 0.0018 - 63ms/epoch - 1ms/step\n",
            "Epoch 110/400\n",
            "47/47 - 0s - loss: 0.0017 - 69ms/epoch - 1ms/step\n",
            "Epoch 111/400\n",
            "47/47 - 0s - loss: 0.0016 - 65ms/epoch - 1ms/step\n",
            "Epoch 112/400\n",
            "47/47 - 0s - loss: 0.0018 - 68ms/epoch - 1ms/step\n",
            "Epoch 113/400\n",
            "47/47 - 0s - loss: 0.0018 - 70ms/epoch - 1ms/step\n",
            "Epoch 114/400\n",
            "47/47 - 0s - loss: 0.0017 - 68ms/epoch - 1ms/step\n",
            "Epoch 115/400\n",
            "47/47 - 0s - loss: 0.0019 - 66ms/epoch - 1ms/step\n",
            "Epoch 116/400\n",
            "47/47 - 0s - loss: 0.0019 - 63ms/epoch - 1ms/step\n",
            "Epoch 117/400\n",
            "47/47 - 0s - loss: 0.0018 - 65ms/epoch - 1ms/step\n",
            "Epoch 118/400\n",
            "47/47 - 0s - loss: 0.0017 - 63ms/epoch - 1ms/step\n",
            "Epoch 119/400\n",
            "47/47 - 0s - loss: 0.0017 - 73ms/epoch - 2ms/step\n",
            "Epoch 120/400\n",
            "47/47 - 0s - loss: 0.0019 - 62ms/epoch - 1ms/step\n",
            "Epoch 121/400\n",
            "47/47 - 0s - loss: 0.0017 - 62ms/epoch - 1ms/step\n",
            "Epoch 122/400\n",
            "47/47 - 0s - loss: 0.0017 - 65ms/epoch - 1ms/step\n",
            "Epoch 123/400\n",
            "47/47 - 0s - loss: 0.0018 - 66ms/epoch - 1ms/step\n",
            "Epoch 124/400\n",
            "47/47 - 0s - loss: 0.0018 - 66ms/epoch - 1ms/step\n",
            "Epoch 125/400\n",
            "47/47 - 0s - loss: 0.0018 - 66ms/epoch - 1ms/step\n",
            "Epoch 126/400\n",
            "47/47 - 0s - loss: 0.0016 - 66ms/epoch - 1ms/step\n",
            "Epoch 127/400\n",
            "47/47 - 0s - loss: 0.0017 - 66ms/epoch - 1ms/step\n",
            "Epoch 128/400\n",
            "47/47 - 0s - loss: 0.0018 - 86ms/epoch - 2ms/step\n",
            "Epoch 129/400\n",
            "47/47 - 0s - loss: 0.0017 - 67ms/epoch - 1ms/step\n",
            "Epoch 130/400\n",
            "47/47 - 0s - loss: 0.0017 - 70ms/epoch - 1ms/step\n",
            "Epoch 131/400\n",
            "47/47 - 0s - loss: 0.0017 - 66ms/epoch - 1ms/step\n",
            "Epoch 132/400\n",
            "47/47 - 0s - loss: 0.0016 - 76ms/epoch - 2ms/step\n",
            "Epoch 133/400\n",
            "47/47 - 0s - loss: 0.0016 - 68ms/epoch - 1ms/step\n",
            "Epoch 134/400\n",
            "47/47 - 0s - loss: 0.0017 - 65ms/epoch - 1ms/step\n",
            "Epoch 135/400\n",
            "47/47 - 0s - loss: 0.0017 - 69ms/epoch - 1ms/step\n",
            "Epoch 136/400\n",
            "47/47 - 0s - loss: 0.0016 - 65ms/epoch - 1ms/step\n",
            "Epoch 137/400\n",
            "47/47 - 0s - loss: 0.0017 - 69ms/epoch - 1ms/step\n",
            "Epoch 138/400\n",
            "47/47 - 0s - loss: 0.0018 - 64ms/epoch - 1ms/step\n",
            "Epoch 139/400\n",
            "47/47 - 0s - loss: 0.0017 - 66ms/epoch - 1ms/step\n",
            "Epoch 140/400\n",
            "47/47 - 0s - loss: 0.0016 - 65ms/epoch - 1ms/step\n",
            "Epoch 141/400\n",
            "47/47 - 0s - loss: 0.0018 - 73ms/epoch - 2ms/step\n",
            "Epoch 142/400\n",
            "47/47 - 0s - loss: 0.0016 - 76ms/epoch - 2ms/step\n",
            "Epoch 143/400\n",
            "47/47 - 0s - loss: 0.0017 - 63ms/epoch - 1ms/step\n",
            "Epoch 144/400\n",
            "47/47 - 0s - loss: 0.0016 - 67ms/epoch - 1ms/step\n",
            "Epoch 145/400\n",
            "47/47 - 0s - loss: 0.0019 - 64ms/epoch - 1ms/step\n",
            "Epoch 146/400\n",
            "47/47 - 0s - loss: 0.0018 - 71ms/epoch - 2ms/step\n",
            "Epoch 147/400\n",
            "47/47 - 0s - loss: 0.0016 - 66ms/epoch - 1ms/step\n",
            "Epoch 148/400\n",
            "47/47 - 0s - loss: 0.0016 - 67ms/epoch - 1ms/step\n",
            "Epoch 149/400\n",
            "47/47 - 0s - loss: 0.0016 - 67ms/epoch - 1ms/step\n",
            "Epoch 150/400\n",
            "47/47 - 0s - loss: 0.0016 - 71ms/epoch - 2ms/step\n",
            "Epoch 151/400\n",
            "47/47 - 0s - loss: 0.0016 - 68ms/epoch - 1ms/step\n",
            "Epoch 152/400\n",
            "47/47 - 0s - loss: 0.0016 - 65ms/epoch - 1ms/step\n",
            "Epoch 153/400\n",
            "47/47 - 0s - loss: 0.0018 - 65ms/epoch - 1ms/step\n",
            "Epoch 154/400\n",
            "47/47 - 0s - loss: 0.0017 - 66ms/epoch - 1ms/step\n",
            "Epoch 155/400\n",
            "47/47 - 0s - loss: 0.0017 - 71ms/epoch - 2ms/step\n",
            "Epoch 156/400\n",
            "47/47 - 0s - loss: 0.0016 - 98ms/epoch - 2ms/step\n",
            "Epoch 157/400\n",
            "47/47 - 0s - loss: 0.0016 - 100ms/epoch - 2ms/step\n",
            "Epoch 158/400\n",
            "47/47 - 0s - loss: 0.0016 - 86ms/epoch - 2ms/step\n",
            "Epoch 159/400\n",
            "47/47 - 0s - loss: 0.0017 - 92ms/epoch - 2ms/step\n",
            "Epoch 160/400\n",
            "47/47 - 0s - loss: 0.0017 - 103ms/epoch - 2ms/step\n",
            "Epoch 161/400\n",
            "47/47 - 0s - loss: 0.0016 - 88ms/epoch - 2ms/step\n",
            "Epoch 162/400\n",
            "47/47 - 0s - loss: 0.0017 - 87ms/epoch - 2ms/step\n",
            "Epoch 163/400\n",
            "47/47 - 0s - loss: 0.0016 - 87ms/epoch - 2ms/step\n",
            "Epoch 164/400\n",
            "47/47 - 0s - loss: 0.0018 - 88ms/epoch - 2ms/step\n",
            "Epoch 165/400\n",
            "47/47 - 0s - loss: 0.0018 - 89ms/epoch - 2ms/step\n",
            "Epoch 166/400\n",
            "47/47 - 0s - loss: 0.0017 - 89ms/epoch - 2ms/step\n",
            "Epoch 167/400\n",
            "47/47 - 0s - loss: 0.0017 - 97ms/epoch - 2ms/step\n",
            "Epoch 168/400\n",
            "47/47 - 0s - loss: 0.0017 - 102ms/epoch - 2ms/step\n",
            "Epoch 169/400\n",
            "47/47 - 0s - loss: 0.0016 - 90ms/epoch - 2ms/step\n",
            "Epoch 170/400\n",
            "47/47 - 0s - loss: 0.0016 - 87ms/epoch - 2ms/step\n",
            "Epoch 171/400\n",
            "47/47 - 0s - loss: 0.0017 - 89ms/epoch - 2ms/step\n",
            "Epoch 172/400\n",
            "47/47 - 0s - loss: 0.0017 - 90ms/epoch - 2ms/step\n",
            "Epoch 173/400\n",
            "47/47 - 0s - loss: 0.0018 - 90ms/epoch - 2ms/step\n",
            "Epoch 174/400\n",
            "47/47 - 0s - loss: 0.0017 - 94ms/epoch - 2ms/step\n",
            "Epoch 175/400\n",
            "47/47 - 0s - loss: 0.0018 - 100ms/epoch - 2ms/step\n",
            "Epoch 176/400\n",
            "47/47 - 0s - loss: 0.0018 - 93ms/epoch - 2ms/step\n",
            "Epoch 177/400\n",
            "47/47 - 0s - loss: 0.0017 - 97ms/epoch - 2ms/step\n",
            "Epoch 178/400\n",
            "47/47 - 0s - loss: 0.0018 - 100ms/epoch - 2ms/step\n",
            "Epoch 179/400\n",
            "47/47 - 0s - loss: 0.0017 - 111ms/epoch - 2ms/step\n",
            "Epoch 180/400\n",
            "47/47 - 0s - loss: 0.0017 - 94ms/epoch - 2ms/step\n",
            "Epoch 181/400\n",
            "47/47 - 0s - loss: 0.0017 - 102ms/epoch - 2ms/step\n",
            "Epoch 182/400\n",
            "47/47 - 0s - loss: 0.0017 - 92ms/epoch - 2ms/step\n",
            "Epoch 183/400\n",
            "47/47 - 0s - loss: 0.0016 - 96ms/epoch - 2ms/step\n",
            "Epoch 184/400\n",
            "47/47 - 0s - loss: 0.0017 - 95ms/epoch - 2ms/step\n",
            "Epoch 185/400\n",
            "47/47 - 0s - loss: 0.0018 - 69ms/epoch - 1ms/step\n",
            "Epoch 186/400\n",
            "47/47 - 0s - loss: 0.0017 - 69ms/epoch - 1ms/step\n",
            "Epoch 187/400\n",
            "47/47 - 0s - loss: 0.0016 - 66ms/epoch - 1ms/step\n",
            "Epoch 188/400\n",
            "47/47 - 0s - loss: 0.0018 - 63ms/epoch - 1ms/step\n",
            "Epoch 189/400\n",
            "47/47 - 0s - loss: 0.0016 - 63ms/epoch - 1ms/step\n",
            "Epoch 190/400\n",
            "47/47 - 0s - loss: 0.0016 - 75ms/epoch - 2ms/step\n",
            "Epoch 191/400\n",
            "47/47 - 0s - loss: 0.0016 - 74ms/epoch - 2ms/step\n",
            "Epoch 192/400\n",
            "47/47 - 0s - loss: 0.0019 - 65ms/epoch - 1ms/step\n",
            "Epoch 193/400\n",
            "47/47 - 0s - loss: 0.0020 - 62ms/epoch - 1ms/step\n",
            "Epoch 194/400\n",
            "47/47 - 0s - loss: 0.0019 - 61ms/epoch - 1ms/step\n",
            "Epoch 195/400\n",
            "47/47 - 0s - loss: 0.0017 - 65ms/epoch - 1ms/step\n",
            "Epoch 196/400\n",
            "47/47 - 0s - loss: 0.0019 - 71ms/epoch - 2ms/step\n",
            "Epoch 197/400\n",
            "47/47 - 0s - loss: 0.0017 - 73ms/epoch - 2ms/step\n",
            "Epoch 198/400\n",
            "47/47 - 0s - loss: 0.0017 - 70ms/epoch - 1ms/step\n",
            "Epoch 199/400\n",
            "47/47 - 0s - loss: 0.0016 - 68ms/epoch - 1ms/step\n",
            "Epoch 200/400\n",
            "47/47 - 0s - loss: 0.0017 - 69ms/epoch - 1ms/step\n",
            "Epoch 201/400\n",
            "47/47 - 0s - loss: 0.0017 - 66ms/epoch - 1ms/step\n",
            "Epoch 202/400\n",
            "47/47 - 0s - loss: 0.0017 - 66ms/epoch - 1ms/step\n",
            "Epoch 203/400\n",
            "47/47 - 0s - loss: 0.0016 - 66ms/epoch - 1ms/step\n",
            "Epoch 204/400\n",
            "47/47 - 0s - loss: 0.0017 - 65ms/epoch - 1ms/step\n",
            "Epoch 205/400\n",
            "47/47 - 0s - loss: 0.0017 - 74ms/epoch - 2ms/step\n",
            "Epoch 206/400\n",
            "47/47 - 0s - loss: 0.0016 - 68ms/epoch - 1ms/step\n",
            "Epoch 207/400\n",
            "47/47 - 0s - loss: 0.0016 - 68ms/epoch - 1ms/step\n",
            "Epoch 208/400\n",
            "47/47 - 0s - loss: 0.0017 - 79ms/epoch - 2ms/step\n",
            "Epoch 209/400\n",
            "47/47 - 0s - loss: 0.0016 - 65ms/epoch - 1ms/step\n",
            "Epoch 210/400\n",
            "47/47 - 0s - loss: 0.0016 - 65ms/epoch - 1ms/step\n",
            "Epoch 211/400\n",
            "47/47 - 0s - loss: 0.0017 - 61ms/epoch - 1ms/step\n",
            "Epoch 212/400\n",
            "47/47 - 0s - loss: 0.0018 - 64ms/epoch - 1ms/step\n",
            "Epoch 213/400\n",
            "47/47 - 0s - loss: 0.0016 - 70ms/epoch - 1ms/step\n",
            "Epoch 214/400\n",
            "47/47 - 0s - loss: 0.0017 - 70ms/epoch - 1ms/step\n",
            "Epoch 215/400\n",
            "47/47 - 0s - loss: 0.0017 - 72ms/epoch - 2ms/step\n",
            "Epoch 216/400\n",
            "47/47 - 0s - loss: 0.0015 - 64ms/epoch - 1ms/step\n",
            "Epoch 217/400\n",
            "47/47 - 0s - loss: 0.0018 - 69ms/epoch - 1ms/step\n",
            "Epoch 218/400\n",
            "47/47 - 0s - loss: 0.0016 - 64ms/epoch - 1ms/step\n",
            "Epoch 219/400\n",
            "47/47 - 0s - loss: 0.0018 - 66ms/epoch - 1ms/step\n",
            "Epoch 220/400\n",
            "47/47 - 0s - loss: 0.0017 - 75ms/epoch - 2ms/step\n",
            "Epoch 221/400\n",
            "47/47 - 0s - loss: 0.0018 - 68ms/epoch - 1ms/step\n",
            "Epoch 222/400\n",
            "47/47 - 0s - loss: 0.0020 - 68ms/epoch - 1ms/step\n",
            "Epoch 223/400\n",
            "47/47 - 0s - loss: 0.0016 - 63ms/epoch - 1ms/step\n",
            "Epoch 224/400\n",
            "47/47 - 0s - loss: 0.0018 - 64ms/epoch - 1ms/step\n",
            "Epoch 225/400\n",
            "47/47 - 0s - loss: 0.0016 - 65ms/epoch - 1ms/step\n",
            "Epoch 226/400\n",
            "47/47 - 0s - loss: 0.0016 - 75ms/epoch - 2ms/step\n",
            "Epoch 227/400\n",
            "47/47 - 0s - loss: 0.0017 - 67ms/epoch - 1ms/step\n",
            "Epoch 228/400\n",
            "47/47 - 0s - loss: 0.0016 - 69ms/epoch - 1ms/step\n",
            "Epoch 229/400\n",
            "47/47 - 0s - loss: 0.0016 - 67ms/epoch - 1ms/step\n",
            "Epoch 230/400\n",
            "47/47 - 0s - loss: 0.0019 - 71ms/epoch - 2ms/step\n",
            "Epoch 231/400\n",
            "47/47 - 0s - loss: 0.0016 - 67ms/epoch - 1ms/step\n",
            "Epoch 232/400\n",
            "47/47 - 0s - loss: 0.0017 - 66ms/epoch - 1ms/step\n",
            "Epoch 233/400\n",
            "47/47 - 0s - loss: 0.0016 - 68ms/epoch - 1ms/step\n",
            "Epoch 234/400\n",
            "47/47 - 0s - loss: 0.0015 - 77ms/epoch - 2ms/step\n",
            "Epoch 235/400\n",
            "47/47 - 0s - loss: 0.0019 - 70ms/epoch - 1ms/step\n",
            "Epoch 236/400\n",
            "47/47 - 0s - loss: 0.0017 - 64ms/epoch - 1ms/step\n",
            "Epoch 237/400\n",
            "47/47 - 0s - loss: 0.0016 - 67ms/epoch - 1ms/step\n",
            "Epoch 238/400\n",
            "47/47 - 0s - loss: 0.0015 - 67ms/epoch - 1ms/step\n",
            "Epoch 239/400\n",
            "47/47 - 0s - loss: 0.0017 - 71ms/epoch - 2ms/step\n",
            "Epoch 240/400\n",
            "47/47 - 0s - loss: 0.0016 - 67ms/epoch - 1ms/step\n",
            "Epoch 241/400\n",
            "47/47 - 0s - loss: 0.0016 - 65ms/epoch - 1ms/step\n",
            "Epoch 242/400\n",
            "47/47 - 0s - loss: 0.0016 - 65ms/epoch - 1ms/step\n",
            "Epoch 243/400\n",
            "47/47 - 0s - loss: 0.0016 - 65ms/epoch - 1ms/step\n",
            "Epoch 244/400\n",
            "47/47 - 0s - loss: 0.0017 - 66ms/epoch - 1ms/step\n",
            "Epoch 245/400\n",
            "47/47 - 0s - loss: 0.0017 - 67ms/epoch - 1ms/step\n",
            "Epoch 246/400\n",
            "47/47 - 0s - loss: 0.0016 - 69ms/epoch - 1ms/step\n",
            "Epoch 247/400\n",
            "47/47 - 0s - loss: 0.0016 - 70ms/epoch - 1ms/step\n",
            "Epoch 248/400\n",
            "47/47 - 0s - loss: 0.0015 - 88ms/epoch - 2ms/step\n",
            "Epoch 249/400\n",
            "47/47 - 0s - loss: 0.0018 - 69ms/epoch - 1ms/step\n",
            "Epoch 250/400\n",
            "47/47 - 0s - loss: 0.0016 - 66ms/epoch - 1ms/step\n",
            "Epoch 251/400\n",
            "47/47 - 0s - loss: 0.0017 - 67ms/epoch - 1ms/step\n",
            "Epoch 252/400\n",
            "47/47 - 0s - loss: 0.0018 - 69ms/epoch - 1ms/step\n",
            "Epoch 253/400\n",
            "47/47 - 0s - loss: 0.0016 - 65ms/epoch - 1ms/step\n",
            "Epoch 254/400\n",
            "47/47 - 0s - loss: 0.0016 - 64ms/epoch - 1ms/step\n",
            "Epoch 255/400\n",
            "47/47 - 0s - loss: 0.0015 - 65ms/epoch - 1ms/step\n",
            "Epoch 256/400\n",
            "47/47 - 0s - loss: 0.0019 - 69ms/epoch - 1ms/step\n",
            "Epoch 257/400\n",
            "47/47 - 0s - loss: 0.0016 - 89ms/epoch - 2ms/step\n",
            "Epoch 258/400\n",
            "47/47 - 0s - loss: 0.0016 - 65ms/epoch - 1ms/step\n",
            "Epoch 259/400\n",
            "47/47 - 0s - loss: 0.0017 - 70ms/epoch - 1ms/step\n",
            "Epoch 260/400\n",
            "47/47 - 0s - loss: 0.0018 - 66ms/epoch - 1ms/step\n",
            "Epoch 261/400\n",
            "47/47 - 0s - loss: 0.0016 - 87ms/epoch - 2ms/step\n",
            "Epoch 262/400\n",
            "47/47 - 0s - loss: 0.0016 - 75ms/epoch - 2ms/step\n",
            "Epoch 263/400\n",
            "47/47 - 0s - loss: 0.0017 - 68ms/epoch - 1ms/step\n",
            "Epoch 264/400\n",
            "47/47 - 0s - loss: 0.0016 - 70ms/epoch - 1ms/step\n",
            "Epoch 265/400\n",
            "47/47 - 0s - loss: 0.0017 - 66ms/epoch - 1ms/step\n",
            "Epoch 266/400\n",
            "47/47 - 0s - loss: 0.0015 - 69ms/epoch - 1ms/step\n",
            "Epoch 267/400\n",
            "47/47 - 0s - loss: 0.0015 - 65ms/epoch - 1ms/step\n",
            "Epoch 268/400\n",
            "47/47 - 0s - loss: 0.0016 - 63ms/epoch - 1ms/step\n",
            "Epoch 269/400\n",
            "47/47 - 0s - loss: 0.0016 - 70ms/epoch - 1ms/step\n",
            "Epoch 270/400\n",
            "47/47 - 0s - loss: 0.0017 - 70ms/epoch - 1ms/step\n",
            "Epoch 271/400\n",
            "47/47 - 0s - loss: 0.0016 - 67ms/epoch - 1ms/step\n",
            "Epoch 272/400\n",
            "47/47 - 0s - loss: 0.0016 - 75ms/epoch - 2ms/step\n",
            "Epoch 273/400\n",
            "47/47 - 0s - loss: 0.0017 - 65ms/epoch - 1ms/step\n",
            "Epoch 274/400\n",
            "47/47 - 0s - loss: 0.0016 - 65ms/epoch - 1ms/step\n",
            "Epoch 275/400\n",
            "47/47 - 0s - loss: 0.0015 - 72ms/epoch - 2ms/step\n",
            "Epoch 276/400\n",
            "47/47 - 0s - loss: 0.0016 - 76ms/epoch - 2ms/step\n",
            "Epoch 277/400\n",
            "47/47 - 0s - loss: 0.0017 - 65ms/epoch - 1ms/step\n",
            "Epoch 278/400\n",
            "47/47 - 0s - loss: 0.0017 - 66ms/epoch - 1ms/step\n",
            "Epoch 279/400\n",
            "47/47 - 0s - loss: 0.0016 - 68ms/epoch - 1ms/step\n",
            "Epoch 280/400\n",
            "47/47 - 0s - loss: 0.0015 - 74ms/epoch - 2ms/step\n",
            "Epoch 281/400\n",
            "47/47 - 0s - loss: 0.0016 - 67ms/epoch - 1ms/step\n",
            "Epoch 282/400\n",
            "47/47 - 0s - loss: 0.0015 - 64ms/epoch - 1ms/step\n",
            "Epoch 283/400\n",
            "47/47 - 0s - loss: 0.0016 - 68ms/epoch - 1ms/step\n",
            "Epoch 284/400\n",
            "47/47 - 0s - loss: 0.0015 - 75ms/epoch - 2ms/step\n",
            "Epoch 285/400\n",
            "47/47 - 0s - loss: 0.0016 - 69ms/epoch - 1ms/step\n",
            "Epoch 286/400\n",
            "47/47 - 0s - loss: 0.0016 - 67ms/epoch - 1ms/step\n",
            "Epoch 287/400\n",
            "47/47 - 0s - loss: 0.0016 - 65ms/epoch - 1ms/step\n",
            "Epoch 288/400\n",
            "47/47 - 0s - loss: 0.0017 - 69ms/epoch - 1ms/step\n",
            "Epoch 289/400\n",
            "47/47 - 0s - loss: 0.0015 - 67ms/epoch - 1ms/step\n",
            "Epoch 290/400\n",
            "47/47 - 0s - loss: 0.0015 - 75ms/epoch - 2ms/step\n",
            "Epoch 291/400\n",
            "47/47 - 0s - loss: 0.0015 - 71ms/epoch - 2ms/step\n",
            "Epoch 292/400\n",
            "47/47 - 0s - loss: 0.0015 - 70ms/epoch - 1ms/step\n",
            "Epoch 293/400\n",
            "47/47 - 0s - loss: 0.0015 - 75ms/epoch - 2ms/step\n",
            "Epoch 294/400\n",
            "47/47 - 0s - loss: 0.0015 - 74ms/epoch - 2ms/step\n",
            "Epoch 295/400\n",
            "47/47 - 0s - loss: 0.0015 - 73ms/epoch - 2ms/step\n",
            "Epoch 296/400\n",
            "47/47 - 0s - loss: 0.0015 - 71ms/epoch - 2ms/step\n",
            "Epoch 297/400\n",
            "47/47 - 0s - loss: 0.0018 - 68ms/epoch - 1ms/step\n",
            "Epoch 298/400\n",
            "47/47 - 0s - loss: 0.0016 - 68ms/epoch - 1ms/step\n",
            "Epoch 299/400\n",
            "47/47 - 0s - loss: 0.0015 - 64ms/epoch - 1ms/step\n",
            "Epoch 300/400\n",
            "47/47 - 0s - loss: 0.0015 - 70ms/epoch - 1ms/step\n",
            "Epoch 301/400\n",
            "47/47 - 0s - loss: 0.0016 - 67ms/epoch - 1ms/step\n",
            "Epoch 302/400\n",
            "47/47 - 0s - loss: 0.0015 - 72ms/epoch - 2ms/step\n",
            "Epoch 303/400\n",
            "47/47 - 0s - loss: 0.0015 - 70ms/epoch - 1ms/step\n",
            "Epoch 304/400\n",
            "47/47 - 0s - loss: 0.0018 - 84ms/epoch - 2ms/step\n",
            "Epoch 305/400\n",
            "47/47 - 0s - loss: 0.0017 - 70ms/epoch - 1ms/step\n",
            "Epoch 306/400\n",
            "47/47 - 0s - loss: 0.0016 - 67ms/epoch - 1ms/step\n",
            "Epoch 307/400\n",
            "47/47 - 0s - loss: 0.0016 - 70ms/epoch - 1ms/step\n",
            "Epoch 308/400\n",
            "47/47 - 0s - loss: 0.0016 - 83ms/epoch - 2ms/step\n",
            "Epoch 309/400\n",
            "47/47 - 0s - loss: 0.0015 - 69ms/epoch - 1ms/step\n",
            "Epoch 310/400\n",
            "47/47 - 0s - loss: 0.0016 - 76ms/epoch - 2ms/step\n",
            "Epoch 311/400\n",
            "47/47 - 0s - loss: 0.0016 - 66ms/epoch - 1ms/step\n",
            "Epoch 312/400\n",
            "47/47 - 0s - loss: 0.0016 - 74ms/epoch - 2ms/step\n",
            "Epoch 313/400\n",
            "47/47 - 0s - loss: 0.0016 - 72ms/epoch - 2ms/step\n",
            "Epoch 314/400\n",
            "47/47 - 0s - loss: 0.0016 - 67ms/epoch - 1ms/step\n",
            "Epoch 315/400\n",
            "47/47 - 0s - loss: 0.0018 - 70ms/epoch - 1ms/step\n",
            "Epoch 316/400\n",
            "47/47 - 0s - loss: 0.0016 - 84ms/epoch - 2ms/step\n",
            "Epoch 317/400\n",
            "47/47 - 0s - loss: 0.0015 - 76ms/epoch - 2ms/step\n",
            "Epoch 318/400\n",
            "47/47 - 0s - loss: 0.0015 - 67ms/epoch - 1ms/step\n",
            "Epoch 319/400\n",
            "47/47 - 0s - loss: 0.0016 - 73ms/epoch - 2ms/step\n",
            "Epoch 320/400\n",
            "47/47 - 0s - loss: 0.0015 - 76ms/epoch - 2ms/step\n",
            "Epoch 321/400\n",
            "47/47 - 0s - loss: 0.0017 - 93ms/epoch - 2ms/step\n",
            "Epoch 322/400\n",
            "47/47 - 0s - loss: 0.0015 - 120ms/epoch - 3ms/step\n",
            "Epoch 323/400\n",
            "47/47 - 0s - loss: 0.0016 - 105ms/epoch - 2ms/step\n",
            "Epoch 324/400\n",
            "47/47 - 0s - loss: 0.0016 - 110ms/epoch - 2ms/step\n",
            "Epoch 325/400\n",
            "47/47 - 0s - loss: 0.0017 - 117ms/epoch - 2ms/step\n",
            "Epoch 326/400\n",
            "47/47 - 0s - loss: 0.0016 - 98ms/epoch - 2ms/step\n",
            "Epoch 327/400\n",
            "47/47 - 0s - loss: 0.0015 - 92ms/epoch - 2ms/step\n",
            "Epoch 328/400\n",
            "47/47 - 0s - loss: 0.0015 - 91ms/epoch - 2ms/step\n",
            "Epoch 329/400\n",
            "47/47 - 0s - loss: 0.0016 - 85ms/epoch - 2ms/step\n",
            "Epoch 330/400\n",
            "47/47 - 0s - loss: 0.0018 - 101ms/epoch - 2ms/step\n",
            "Epoch 331/400\n",
            "47/47 - 0s - loss: 0.0014 - 92ms/epoch - 2ms/step\n",
            "Epoch 332/400\n",
            "47/47 - 0s - loss: 0.0016 - 95ms/epoch - 2ms/step\n",
            "Epoch 333/400\n",
            "47/47 - 0s - loss: 0.0016 - 98ms/epoch - 2ms/step\n",
            "Epoch 334/400\n",
            "47/47 - 0s - loss: 0.0014 - 104ms/epoch - 2ms/step\n",
            "Epoch 335/400\n",
            "47/47 - 0s - loss: 0.0016 - 94ms/epoch - 2ms/step\n",
            "Epoch 336/400\n",
            "47/47 - 0s - loss: 0.0016 - 94ms/epoch - 2ms/step\n",
            "Epoch 337/400\n",
            "47/47 - 0s - loss: 0.0016 - 92ms/epoch - 2ms/step\n",
            "Epoch 338/400\n",
            "47/47 - 0s - loss: 0.0016 - 103ms/epoch - 2ms/step\n",
            "Epoch 339/400\n",
            "47/47 - 0s - loss: 0.0016 - 102ms/epoch - 2ms/step\n",
            "Epoch 340/400\n",
            "47/47 - 0s - loss: 0.0015 - 95ms/epoch - 2ms/step\n",
            "Epoch 341/400\n",
            "47/47 - 0s - loss: 0.0015 - 95ms/epoch - 2ms/step\n",
            "Epoch 342/400\n",
            "47/47 - 0s - loss: 0.0015 - 100ms/epoch - 2ms/step\n",
            "Epoch 343/400\n",
            "47/47 - 0s - loss: 0.0016 - 98ms/epoch - 2ms/step\n",
            "Epoch 344/400\n",
            "47/47 - 0s - loss: 0.0016 - 93ms/epoch - 2ms/step\n",
            "Epoch 345/400\n",
            "47/47 - 0s - loss: 0.0016 - 97ms/epoch - 2ms/step\n",
            "Epoch 346/400\n",
            "47/47 - 0s - loss: 0.0016 - 116ms/epoch - 2ms/step\n",
            "Epoch 347/400\n",
            "47/47 - 0s - loss: 0.0015 - 107ms/epoch - 2ms/step\n",
            "Epoch 348/400\n",
            "47/47 - 0s - loss: 0.0015 - 119ms/epoch - 3ms/step\n",
            "Epoch 349/400\n",
            "47/47 - 0s - loss: 0.0014 - 70ms/epoch - 1ms/step\n",
            "Epoch 350/400\n",
            "47/47 - 0s - loss: 0.0015 - 73ms/epoch - 2ms/step\n",
            "Epoch 351/400\n",
            "47/47 - 0s - loss: 0.0017 - 68ms/epoch - 1ms/step\n",
            "Epoch 352/400\n",
            "47/47 - 0s - loss: 0.0014 - 69ms/epoch - 1ms/step\n",
            "Epoch 353/400\n",
            "47/47 - 0s - loss: 0.0016 - 68ms/epoch - 1ms/step\n",
            "Epoch 354/400\n",
            "47/47 - 0s - loss: 0.0015 - 65ms/epoch - 1ms/step\n",
            "Epoch 355/400\n",
            "47/47 - 0s - loss: 0.0015 - 64ms/epoch - 1ms/step\n",
            "Epoch 356/400\n",
            "47/47 - 0s - loss: 0.0016 - 72ms/epoch - 2ms/step\n",
            "Epoch 357/400\n",
            "47/47 - 0s - loss: 0.0015 - 69ms/epoch - 1ms/step\n",
            "Epoch 358/400\n",
            "47/47 - 0s - loss: 0.0019 - 66ms/epoch - 1ms/step\n",
            "Epoch 359/400\n",
            "47/47 - 0s - loss: 0.0016 - 64ms/epoch - 1ms/step\n",
            "Epoch 360/400\n",
            "47/47 - 0s - loss: 0.0015 - 65ms/epoch - 1ms/step\n",
            "Epoch 361/400\n",
            "47/47 - 0s - loss: 0.0017 - 69ms/epoch - 1ms/step\n",
            "Epoch 362/400\n",
            "47/47 - 0s - loss: 0.0016 - 71ms/epoch - 2ms/step\n",
            "Epoch 363/400\n",
            "47/47 - 0s - loss: 0.0015 - 66ms/epoch - 1ms/step\n",
            "Epoch 364/400\n",
            "47/47 - 0s - loss: 0.0016 - 71ms/epoch - 2ms/step\n",
            "Epoch 365/400\n",
            "47/47 - 0s - loss: 0.0014 - 70ms/epoch - 1ms/step\n",
            "Epoch 366/400\n",
            "47/47 - 0s - loss: 0.0016 - 65ms/epoch - 1ms/step\n",
            "Epoch 367/400\n",
            "47/47 - 0s - loss: 0.0017 - 70ms/epoch - 1ms/step\n",
            "Epoch 368/400\n",
            "47/47 - 0s - loss: 0.0015 - 65ms/epoch - 1ms/step\n",
            "Epoch 369/400\n",
            "47/47 - 0s - loss: 0.0016 - 72ms/epoch - 2ms/step\n",
            "Epoch 370/400\n",
            "47/47 - 0s - loss: 0.0014 - 71ms/epoch - 2ms/step\n",
            "Epoch 371/400\n",
            "47/47 - 0s - loss: 0.0015 - 66ms/epoch - 1ms/step\n",
            "Epoch 372/400\n",
            "47/47 - 0s - loss: 0.0015 - 66ms/epoch - 1ms/step\n",
            "Epoch 373/400\n",
            "47/47 - 0s - loss: 0.0016 - 64ms/epoch - 1ms/step\n",
            "Epoch 374/400\n",
            "47/47 - 0s - loss: 0.0014 - 68ms/epoch - 1ms/step\n",
            "Epoch 375/400\n",
            "47/47 - 0s - loss: 0.0015 - 68ms/epoch - 1ms/step\n",
            "Epoch 376/400\n",
            "47/47 - 0s - loss: 0.0015 - 72ms/epoch - 2ms/step\n",
            "Epoch 377/400\n",
            "47/47 - 0s - loss: 0.0016 - 72ms/epoch - 2ms/step\n",
            "Epoch 378/400\n",
            "47/47 - 0s - loss: 0.0015 - 69ms/epoch - 1ms/step\n",
            "Epoch 379/400\n",
            "47/47 - 0s - loss: 0.0015 - 69ms/epoch - 1ms/step\n",
            "Epoch 380/400\n",
            "47/47 - 0s - loss: 0.0016 - 63ms/epoch - 1ms/step\n",
            "Epoch 381/400\n",
            "47/47 - 0s - loss: 0.0014 - 64ms/epoch - 1ms/step\n",
            "Epoch 382/400\n",
            "47/47 - 0s - loss: 0.0017 - 67ms/epoch - 1ms/step\n",
            "Epoch 383/400\n",
            "47/47 - 0s - loss: 0.0016 - 72ms/epoch - 2ms/step\n",
            "Epoch 384/400\n",
            "47/47 - 0s - loss: 0.0015 - 66ms/epoch - 1ms/step\n",
            "Epoch 385/400\n",
            "47/47 - 0s - loss: 0.0016 - 72ms/epoch - 2ms/step\n",
            "Epoch 386/400\n",
            "47/47 - 0s - loss: 0.0015 - 65ms/epoch - 1ms/step\n",
            "Epoch 387/400\n",
            "47/47 - 0s - loss: 0.0014 - 69ms/epoch - 1ms/step\n",
            "Epoch 388/400\n",
            "47/47 - 0s - loss: 0.0016 - 67ms/epoch - 1ms/step\n",
            "Epoch 389/400\n",
            "47/47 - 0s - loss: 0.0016 - 65ms/epoch - 1ms/step\n",
            "Epoch 390/400\n",
            "47/47 - 0s - loss: 0.0015 - 67ms/epoch - 1ms/step\n",
            "Epoch 391/400\n",
            "47/47 - 0s - loss: 0.0014 - 79ms/epoch - 2ms/step\n",
            "Epoch 392/400\n",
            "47/47 - 0s - loss: 0.0016 - 67ms/epoch - 1ms/step\n",
            "Epoch 393/400\n",
            "47/47 - 0s - loss: 0.0014 - 67ms/epoch - 1ms/step\n",
            "Epoch 394/400\n",
            "47/47 - 0s - loss: 0.0015 - 64ms/epoch - 1ms/step\n",
            "Epoch 395/400\n",
            "47/47 - 0s - loss: 0.0015 - 67ms/epoch - 1ms/step\n",
            "Epoch 396/400\n",
            "47/47 - 0s - loss: 0.0015 - 67ms/epoch - 1ms/step\n",
            "Epoch 397/400\n",
            "47/47 - 0s - loss: 0.0015 - 64ms/epoch - 1ms/step\n",
            "Epoch 398/400\n",
            "47/47 - 0s - loss: 0.0016 - 67ms/epoch - 1ms/step\n",
            "Epoch 399/400\n",
            "47/47 - 0s - loss: 0.0017 - 70ms/epoch - 1ms/step\n",
            "Epoch 400/400\n",
            "47/47 - 0s - loss: 0.0016 - 70ms/epoch - 1ms/step\n"
          ]
        },
        {
          "output_type": "execute_result",
          "data": {
            "text/plain": [
              "<keras.callbacks.History at 0x7d7828a83a00>"
            ]
          },
          "metadata": {},
          "execution_count": 27
        }
      ]
    },
    {
      "cell_type": "code",
      "source": [
        "# Make predictions\n",
        "trainPredict = model.predict(trainX)\n",
        "testPredict = model.predict(testX)"
      ],
      "metadata": {
        "id": "1OjK2cv4_3Up",
        "colab": {
          "base_uri": "https://localhost:8080/"
        },
        "outputId": "0828f43b-26cc-49a3-a91c-3497d2759554"
      },
      "execution_count": 28,
      "outputs": [
        {
          "output_type": "stream",
          "name": "stdout",
          "text": [
            "3/3 [==============================] - 0s 4ms/step\n",
            "2/2 [==============================] - 0s 4ms/step\n"
          ]
        }
      ]
    },
    {
      "cell_type": "code",
      "source": [
        "# Invert predictions\n",
        "trainPredict = scaler.inverse_transform(trainPredict)\n",
        "trainY = scaler.inverse_transform(trainY)\n",
        "testPredict = scaler.inverse_transform(testPredict)\n",
        "testY = scaler.inverse_transform(testY)"
      ],
      "metadata": {
        "id": "NnuS1QE3_4ir"
      },
      "execution_count": 29,
      "outputs": []
    },
    {
      "cell_type": "markdown",
      "source": [
        "Finally, we plot the actual and predicted values to visually evaluate the performance of the model. The blue line represents the original dataset, and the orange line represents the predicted values for the test dataset. We can visually evaluate how well our model performed in predicting the number of international airline passengers."
      ],
      "metadata": {
        "id": "KgBcQ3TiACEh"
      }
    },
    {
      "cell_type": "code",
      "source": [
        "# Plot baseline and predictions\n",
        "plt.plot(scaler.inverse_transform(dataset))\n",
        "plt.plot([None for _ in trainPredict] + [x for x in testPredict])\n",
        "plt.show()"
      ],
      "metadata": {
        "id": "VbUVp7G0_5ki",
        "colab": {
          "base_uri": "https://localhost:8080/",
          "height": 485
        },
        "outputId": "7e9aa0cc-cda1-49b0-9b44-2364c67a091d"
      },
      "execution_count": 30,
      "outputs": [
        {
          "output_type": "stream",
          "name": "stderr",
          "text": [
            "/usr/local/lib/python3.10/dist-packages/numpy/core/shape_base.py:65: VisibleDeprecationWarning: Creating an ndarray from ragged nested sequences (which is a list-or-tuple of lists-or-tuples-or ndarrays with different lengths or shapes) is deprecated. If you meant to do this, you must specify 'dtype=object' when creating the ndarray.\n",
            "  ary = asanyarray(ary)\n"
          ]
        },
        {
          "output_type": "display_data",
          "data": {
            "text/plain": [
              "<Figure size 640x480 with 1 Axes>"
            ],
            "image/png": "[encoded data removed]"
          },
          "metadata": {}
        }
      ]
    },
    {
      "cell_type": "markdown",
      "source": [
        "##Convolutional neural network"
      ],
      "metadata": {
        "id": "Ozx9-65b9uwW"
      }
    },
    {
      "cell_type": "markdown",
      "source": [
        "###Image Recognition"
      ],
      "metadata": {
        "id": "eejVj2_X9y7G"
      }
    },
    {
      "cell_type": "markdown",
      "source": [
        "We'll stick with the MNIST dataset, but this time we will implement a more complex version of a Convolutional Neural Network that includes additional convolutional and dense layers, as well as dropout for regularization. Dropout is a regularization technique where randomly selected neurons are ignored during training to prevent overfitting."
      ],
      "metadata": {
        "id": "vuJmcg3q-jd5"
      }
    },
    {
      "cell_type": "markdown",
      "source": [
        "The MNIST dataset is a collection of handwritten digits (0 through 9). Each sample is a 28x28 grayscale image. This data is commonly used for image recognition tasks involving neural networks."
      ],
      "metadata": {
        "id": "dwxs3rY1--Tj"
      }
    },
    {
      "cell_type": "code",
      "source": [
        "from tensorflow.keras.datasets import mnist\n",
        "from tensorflow.keras.models import Sequential\n",
        "from tensorflow.keras.layers import Conv2D, MaxPooling2D, Dropout, Flatten, Dense\n",
        "from tensorflow.keras.utils import to_categorical"
      ],
      "metadata": {
        "id": "Z1RHyhvC90iO"
      },
      "execution_count": 31,
      "outputs": []
    },
    {
      "cell_type": "code",
      "source": [
        "# Load the MNIST dataset\n",
        "(X_train, y_train), (X_test, y_test) = mnist.load_data()"
      ],
      "metadata": {
        "id": "7ZzU17bb-mvx",
        "colab": {
          "base_uri": "https://localhost:8080/"
        },
        "outputId": "97345eb8-cf86-49c1-8d65-46a2dfa95667"
      },
      "execution_count": 32,
      "outputs": [
        {
          "output_type": "stream",
          "name": "stdout",
          "text": [
            "Downloading data from https://storage.googleapis.com/tensorflow/tf-keras-datasets/mnist.npz\n",
            "11490434/11490434 [==============================] - 0s 0us/step\n"
          ]
        }
      ]
    },
    {
      "cell_type": "code",
      "source": [
        "# Preprocess the data\n",
        "X_train = X_train.reshape(-1, 28, 28, 1).astype('float32') / 255\n",
        "X_test = X_test.reshape(-1, 28, 28, 1).astype('float32') / 255\n",
        "y_train = to_categorical(y_train, 10)\n",
        "y_test = to_categorical(y_test, 10)"
      ],
      "metadata": {
        "id": "e4D3HyAZ-oQJ"
      },
      "execution_count": 33,
      "outputs": []
    },
    {
      "cell_type": "markdown",
      "source": [
        "We build a Sequential model in Keras, which is a linear stack of layers that we can add to one by one."
      ],
      "metadata": {
        "id": "skknDx-9_AEy"
      }
    },
    {
      "cell_type": "code",
      "source": [
        "# Initialize the model\n",
        "model = Sequential()"
      ],
      "metadata": {
        "id": "5djuGfnj-p9p"
      },
      "execution_count": 34,
      "outputs": []
    },
    {
      "cell_type": "markdown",
      "source": [
        "Conv2D layers are for convolution operations, extracting features from the input images."
      ],
      "metadata": {
        "id": "94d4-dw4_CVZ"
      }
    },
    {
      "cell_type": "code",
      "source": [
        "# First convolutional layer, with 32 3x3 filters and ReLU activation\n",
        "model.add(Conv2D(32, (3, 3), activation='relu', input_shape=(28, 28, 1)))"
      ],
      "metadata": {
        "id": "hLn3AZGN-rcJ"
      },
      "execution_count": 35,
      "outputs": []
    },
    {
      "cell_type": "markdown",
      "source": [
        "MaxPooling2D layers are used to reduce the spatial dimensions (width, height) of the input volume for the next convolutional layer. They work by sliding a 2x2 pooling filter across the input volume and taking the max value among the 4 values in the 2x2 filter."
      ],
      "metadata": {
        "id": "g8D2S62r_EGZ"
      }
    },
    {
      "cell_type": "code",
      "source": [
        "# Max pooling reduces the spatial dimensions of the output volume\n",
        "model.add(MaxPooling2D(pool_size=(2, 2)))"
      ],
      "metadata": {
        "id": "3CbosD8P-ssh"
      },
      "execution_count": 36,
      "outputs": []
    },
    {
      "cell_type": "markdown",
      "source": [
        "Dropout layers \"turn off\" neurons during training to prevent overfitting."
      ],
      "metadata": {
        "id": "sWRjJX1s_GjR"
      }
    },
    {
      "cell_type": "code",
      "source": [
        "# Regularization via dropout\n",
        "model.add(Dropout(0.25))"
      ],
      "metadata": {
        "id": "7hx19TEs-t5B"
      },
      "execution_count": 37,
      "outputs": []
    },
    {
      "cell_type": "code",
      "source": [
        "# Second convolutional layer, with 64 3x3 filters and ReLU activation\n",
        "model.add(Conv2D(64, (3, 3), activation='relu'))"
      ],
      "metadata": {
        "id": "TG9Zw8xv-vWZ"
      },
      "execution_count": 38,
      "outputs": []
    },
    {
      "cell_type": "code",
      "source": [
        "# Second pooling layer\n",
        "model.add(MaxPooling2D(pool_size=(2, 2)))"
      ],
      "metadata": {
        "id": "1yBVOd9l-wgC"
      },
      "execution_count": 39,
      "outputs": []
    },
    {
      "cell_type": "code",
      "source": [
        "# Regularization via dropout\n",
        "model.add(Dropout(0.25))"
      ],
      "metadata": {
        "id": "e9eTrgD4-xlh"
      },
      "execution_count": 40,
      "outputs": []
    },
    {
      "cell_type": "markdown",
      "source": [
        "The Flatten layer is used to flatten the input into a one-dimensional array."
      ],
      "metadata": {
        "id": "nwfyow8-_IpB"
      }
    },
    {
      "cell_type": "code",
      "source": [
        "# Flattening the tensor output from the previous layer to input it to the dense layer\n",
        "model.add(Flatten())"
      ],
      "metadata": {
        "id": "2bJbLGxS-yxJ"
      },
      "execution_count": 41,
      "outputs": []
    },
    {
      "cell_type": "markdown",
      "source": [
        "Dense layers are fully connected layers, meaning all neurons in a layer are connected to those in the next layer. In the final Dense layer, the activation function is softmax, which makes the output sum up to 1 so the output can be interpreted as probabilities. The model will make its prediction based on which option has the highest probability."
      ],
      "metadata": {
        "id": "ZNK3aG45_Kvp"
      }
    },
    {
      "cell_type": "code",
      "source": [
        "# Dense layer of 128 neurons\n",
        "model.add(Dense(128, activation='relu'))"
      ],
      "metadata": {
        "id": "s6Mf05Bz-z9i"
      },
      "execution_count": 42,
      "outputs": []
    },
    {
      "cell_type": "code",
      "source": [
        "# Another dropout\n",
        "model.add(Dropout(0.5))"
      ],
      "metadata": {
        "id": "6MnG1kDB-1Fx"
      },
      "execution_count": 43,
      "outputs": []
    },
    {
      "cell_type": "code",
      "source": [
        "# Final softmax layer for classification\n",
        "model.add(Dense(10, activation='softmax'))"
      ],
      "metadata": {
        "id": "iZ6Z57BF-2Sh"
      },
      "execution_count": 44,
      "outputs": []
    },
    {
      "cell_type": "code",
      "source": [
        "# Compile the model with loss function, optimizer, and metrics\n",
        "model.compile(loss='categorical_crossentropy', optimizer='adam', metrics=['accuracy'])"
      ],
      "metadata": {
        "id": "hLyL5hiL-3x0"
      },
      "execution_count": 45,
      "outputs": []
    },
    {
      "cell_type": "code",
      "source": [
        "# Train the model\n",
        "history=model.fit(X_train, y_train, validation_data=(X_test, y_test), epochs=10, batch_size=200)"
      ],
      "metadata": {
        "id": "AaZocIfZ-5MZ",
        "colab": {
          "base_uri": "https://localhost:8080/"
        },
        "outputId": "a48e2da9-e6de-4e96-f1f7-8de4e4d31296"
      },
      "execution_count": 53,
      "outputs": [
        {
          "output_type": "stream",
          "name": "stdout",
          "text": [
            "Epoch 1/10\n",
            "300/300 [==============================] - 67s 223ms/step - loss: 0.0435 - accuracy: 0.9865 - val_loss: 0.0247 - val_accuracy: 0.9922\n",
            "Epoch 2/10\n",
            "300/300 [==============================] - 61s 203ms/step - loss: 0.0402 - accuracy: 0.9871 - val_loss: 0.0216 - val_accuracy: 0.9921\n",
            "Epoch 3/10\n",
            "300/300 [==============================] - 70s 234ms/step - loss: 0.0409 - accuracy: 0.9876 - val_loss: 0.0211 - val_accuracy: 0.9933\n",
            "Epoch 4/10\n",
            "300/300 [==============================] - 61s 204ms/step - loss: 0.0394 - accuracy: 0.9884 - val_loss: 0.0199 - val_accuracy: 0.9926\n",
            "Epoch 5/10\n",
            "300/300 [==============================] - 61s 204ms/step - loss: 0.0358 - accuracy: 0.9889 - val_loss: 0.0216 - val_accuracy: 0.9923\n",
            "Epoch 6/10\n",
            "300/300 [==============================] - 61s 203ms/step - loss: 0.0357 - accuracy: 0.9887 - val_loss: 0.0201 - val_accuracy: 0.9934\n",
            "Epoch 7/10\n",
            "300/300 [==============================] - 61s 203ms/step - loss: 0.0336 - accuracy: 0.9897 - val_loss: 0.0199 - val_accuracy: 0.9923\n",
            "Epoch 8/10\n",
            "300/300 [==============================] - 59s 198ms/step - loss: 0.0339 - accuracy: 0.9891 - val_loss: 0.0203 - val_accuracy: 0.9933\n",
            "Epoch 9/10\n",
            "300/300 [==============================] - 60s 200ms/step - loss: 0.0308 - accuracy: 0.9904 - val_loss: 0.0227 - val_accuracy: 0.9913\n",
            "Epoch 10/10\n",
            "300/300 [==============================] - 59s 197ms/step - loss: 0.0300 - accuracy: 0.9904 - val_loss: 0.0210 - val_accuracy: 0.9931\n"
          ]
        }
      ]
    },
    {
      "cell_type": "code",
      "source": [
        "# import necessary libraries for visualization\n",
        "import matplotlib.pyplot as plt\n",
        "import numpy as np"
      ],
      "metadata": {
        "id": "w6og1D_QiOwW"
      },
      "execution_count": 47,
      "outputs": []
    },
    {
      "cell_type": "code",
      "source": [
        "# Evaluate the model\n",
        "scores = model.evaluate(X_test, y_test, verbose=1)\n",
        "print(\"Test loss:\", scores[0])\n",
        "print(\"Test accuracy:\", scores[1])"
      ],
      "metadata": {
        "colab": {
          "base_uri": "https://localhost:8080/"
        },
        "id": "TCtT2xFOiQP3",
        "outputId": "041aacb8-179e-453e-d477-9cf488d5ef37"
      },
      "execution_count": 48,
      "outputs": [
        {
          "output_type": "stream",
          "name": "stdout",
          "text": [
            "313/313 [==============================] - 3s 10ms/step - loss: 0.0227 - accuracy: 0.9920\n",
            "Test loss: 0.022742699831724167\n",
            "Test accuracy: 0.9919999837875366\n"
          ]
        }
      ]
    },
    {
      "cell_type": "code",
      "source": [
        "# Make predictions\n",
        "predictions = model.predict(X_test)"
      ],
      "metadata": {
        "colab": {
          "base_uri": "https://localhost:8080/"
        },
        "id": "UyCdS2SDiUKn",
        "outputId": "d7c2ea95-a057-4953-baa0-50b569ce8be7"
      },
      "execution_count": 49,
      "outputs": [
        {
          "output_type": "stream",
          "name": "stdout",
          "text": [
            "313/313 [==============================] - 5s 17ms/step\n"
          ]
        }
      ]
    },
    {
      "cell_type": "code",
      "source": [
        "# Choose a random test image\n",
        "random_idx = np.random.choice(X_test.shape[0])"
      ],
      "metadata": {
        "id": "neDmptLEiXmW"
      },
      "execution_count": 50,
      "outputs": []
    },
    {
      "cell_type": "code",
      "source": [
        "# Display the test image\n",
        "plt.figure(figsize=(2, 2))\n",
        "plt.imshow(X_test[random_idx].reshape(28, 28), cmap='gray')\n",
        "plt.title(\"True Label: %s \\nPredicted Label: %s\" % (np.argmax(y_test[random_idx]), np.argmax(predictions[random_idx])))\n",
        "plt.axis('off')\n",
        "plt.show()"
      ],
      "metadata": {
        "colab": {
          "base_uri": "https://localhost:8080/",
          "height": 234
        },
        "id": "3s_g7yIniZt9",
        "outputId": "506de6b1-bada-47df-dc62-8fb44559ac2f"
      },
      "execution_count": 51,
      "outputs": [
        {
          "output_type": "display_data",
          "data": {
            "text/plain": [
              "<Figure size 200x200 with 1 Axes>"
            ],
            "image/png": "[encoded data removed]"
          },
          "metadata": {}
        }
      ]
    },
    {
      "cell_type": "code",
      "source": [
        "# Plot the loss and accuracy curves for training and validation\n",
        "fig, ax = plt.subplots(2,1)\n",
        "ax[0].plot(model.history.history['loss'], color='b', label=\"Training loss\")\n",
        "ax[0].plot(model.history.history['val_loss'], color='r', label=\"validation loss\",axes =ax[0])\n",
        "legend = ax[0].legend(loc='best', shadow=True)\n",
        "\n",
        "ax[1].plot(model.history.history['accuracy'], color='b', label=\"Training accuracy\")\n",
        "ax[1].plot(model.history.history['val_accuracy'], color='r',label=\"Validation accuracy\")\n",
        "legend = ax[1].legend(loc='best', shadow=True)\n",
        "plt.show()"
      ],
      "metadata": {
        "colab": {
          "base_uri": "https://localhost:8080/",
          "height": 430
        },
        "id": "M8I455MzicSN",
        "outputId": "98e65c46-fcbe-49a8-e390-bf9b3bacd639"
      },
      "execution_count": 71,
      "outputs": [
        {
          "output_type": "display_data",
          "data": {
            "text/plain": [
              "<Figure size 640x480 with 2 Axes>"
            ],
            "image/png": "[encoded data removed]"
          },
          "metadata": {}
        }
      ]
    }
  ]
}