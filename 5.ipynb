{
  "nbformat": 4,
  "nbformat_minor": 0,
  "metadata": {
    "colab": {
      "provenance": [],
      "machine_shape": "hm",
      "gpuType": "T4"
    },
    "kernelspec": {
      "name": "python3",
      "display_name": "Python 3"
    },
    "language_info": {
      "name": "python"
    },
    "accelerator": "GPU",
    "widgets": {
      "application/vnd.jupyter.widget-state+json": {
        "0a5eacc4e35a4c4b916e8c43c13d2ce6": {
          "model_module": "@jupyter-widgets/controls",
          "model_name": "HBoxModel",
          "model_module_version": "1.5.0",
          "state": {
            "_dom_classes": [],
            "_model_module": "@jupyter-widgets/controls",
            "_model_module_version": "1.5.0",
            "_model_name": "HBoxModel",
            "_view_count": null,
            "_view_module": "@jupyter-widgets/controls",
            "_view_module_version": "1.5.0",
            "_view_name": "HBoxView",
            "box_style": "",
            "children": [
              "IPY_MODEL_7014644243854e968bde2a068da0b473",
              "IPY_MODEL_32b4ed953b28495a8971838682a8ce2f",
              "IPY_MODEL_7a786313a88c446dbba7b736f4a2e5ee"
            ],
            "layout": "IPY_MODEL_5905c7916f114db298c153f8bb3fca13"
          }
        },
        "7014644243854e968bde2a068da0b473": {
          "model_module": "@jupyter-widgets/controls",
          "model_name": "HTMLModel",
          "model_module_version": "1.5.0",
          "state": {
            "_dom_classes": [],
            "_model_module": "@jupyter-widgets/controls",
            "_model_module_version": "1.5.0",
            "_model_name": "HTMLModel",
            "_view_count": null,
            "_view_module": "@jupyter-widgets/controls",
            "_view_module_version": "1.5.0",
            "_view_name": "HTMLView",
            "description": "",
            "description_tooltip": null,
            "layout": "IPY_MODEL_86e894a87c844de1893613086e451c83",
            "placeholder": "​",
            "style": "IPY_MODEL_b91c3d18e38340b7afabbb3e68627c12",
            "value": "Epoch 1/1: 100%"
          }
        },
        "32b4ed953b28495a8971838682a8ce2f": {
          "model_module": "@jupyter-widgets/controls",
          "model_name": "FloatProgressModel",
          "model_module_version": "1.5.0",
          "state": {
            "_dom_classes": [],
            "_model_module": "@jupyter-widgets/controls",
            "_model_module_version": "1.5.0",
            "_model_name": "FloatProgressModel",
            "_view_count": null,
            "_view_module": "@jupyter-widgets/controls",
            "_view_module_version": "1.5.0",
            "_view_name": "ProgressView",
            "bar_style": "success",
            "description": "",
            "description_tooltip": null,
            "layout": "IPY_MODEL_dde03b32304d47fdafc3f3f9f81cec92",
            "max": 2478,
            "min": 0,
            "orientation": "horizontal",
            "style": "IPY_MODEL_98422b5880c54dabacb762dac81dd339",
            "value": 2478
          }
        },
        "7a786313a88c446dbba7b736f4a2e5ee": {
          "model_module": "@jupyter-widgets/controls",
          "model_name": "HTMLModel",
          "model_module_version": "1.5.0",
          "state": {
            "_dom_classes": [],
            "_model_module": "@jupyter-widgets/controls",
            "_model_module_version": "1.5.0",
            "_model_name": "HTMLModel",
            "_view_count": null,
            "_view_module": "@jupyter-widgets/controls",
            "_view_module_version": "1.5.0",
            "_view_name": "HTMLView",
            "description": "",
            "description_tooltip": null,
            "layout": "IPY_MODEL_65141529021a425082e9bedd66c5aede",
            "placeholder": "​",
            "style": "IPY_MODEL_e785d0a9ffcd453eaa9caf4cf900895f",
            "value": " 2478/2478 [00:13&lt;00:00, 173.98it/s, loss=0.689]"
          }
        },
        "5905c7916f114db298c153f8bb3fca13": {
          "model_module": "@jupyter-widgets/base",
          "model_name": "LayoutModel",
          "model_module_version": "1.2.0",
          "state": {
            "_model_module": "@jupyter-widgets/base",
            "_model_module_version": "1.2.0",
            "_model_name": "LayoutModel",
            "_view_count": null,
            "_view_module": "@jupyter-widgets/base",
            "_view_module_version": "1.2.0",
            "_view_name": "LayoutView",
            "align_content": null,
            "align_items": null,
            "align_self": null,
            "border": null,
            "bottom": null,
            "display": null,
            "flex": null,
            "flex_flow": null,
            "grid_area": null,
            "grid_auto_columns": null,
            "grid_auto_flow": null,
            "grid_auto_rows": null,
            "grid_column": null,
            "grid_gap": null,
            "grid_row": null,
            "grid_template_areas": null,
            "grid_template_columns": null,
            "grid_template_rows": null,
            "height": null,
            "justify_content": null,
            "justify_items": null,
            "left": null,
            "margin": null,
            "max_height": null,
            "max_width": null,
            "min_height": null,
            "min_width": null,
            "object_fit": null,
            "object_position": null,
            "order": null,
            "overflow": null,
            "overflow_x": null,
            "overflow_y": null,
            "padding": null,
            "right": null,
            "top": null,
            "visibility": null,
            "width": null
          }
        },
        "86e894a87c844de1893613086e451c83": {
          "model_module": "@jupyter-widgets/base",
          "model_name": "LayoutModel",
          "model_module_version": "1.2.0",
          "state": {
            "_model_module": "@jupyter-widgets/base",
            "_model_module_version": "1.2.0",
            "_model_name": "LayoutModel",
            "_view_count": null,
            "_view_module": "@jupyter-widgets/base",
            "_view_module_version": "1.2.0",
            "_view_name": "LayoutView",
            "align_content": null,
            "align_items": null,
            "align_self": null,
            "border": null,
            "bottom": null,
            "display": null,
            "flex": null,
            "flex_flow": null,
            "grid_area": null,
            "grid_auto_columns": null,
            "grid_auto_flow": null,
            "grid_auto_rows": null,
            "grid_column": null,
            "grid_gap": null,
            "grid_row": null,
            "grid_template_areas": null,
            "grid_template_columns": null,
            "grid_template_rows": null,
            "height": null,
            "justify_content": null,
            "justify_items": null,
            "left": null,
            "margin": null,
            "max_height": null,
            "max_width": null,
            "min_height": null,
            "min_width": null,
            "object_fit": null,
            "object_position": null,
            "order": null,
            "overflow": null,
            "overflow_x": null,
            "overflow_y": null,
            "padding": null,
            "right": null,
            "top": null,
            "visibility": null,
            "width": null
          }
        },
        "b91c3d18e38340b7afabbb3e68627c12": {
          "model_module": "@jupyter-widgets/controls",
          "model_name": "DescriptionStyleModel",
          "model_module_version": "1.5.0",
          "state": {
            "_model_module": "@jupyter-widgets/controls",
            "_model_module_version": "1.5.0",
            "_model_name": "DescriptionStyleModel",
            "_view_count": null,
            "_view_module": "@jupyter-widgets/base",
            "_view_module_version": "1.2.0",
            "_view_name": "StyleView",
            "description_width": ""
          }
        },
        "dde03b32304d47fdafc3f3f9f81cec92": {
          "model_module": "@jupyter-widgets/base",
          "model_name": "LayoutModel",
          "model_module_version": "1.2.0",
          "state": {
            "_model_module": "@jupyter-widgets/base",
            "_model_module_version": "1.2.0",
            "_model_name": "LayoutModel",
            "_view_count": null,
            "_view_module": "@jupyter-widgets/base",
            "_view_module_version": "1.2.0",
            "_view_name": "LayoutView",
            "align_content": null,
            "align_items": null,
            "align_self": null,
            "border": null,
            "bottom": null,
            "display": null,
            "flex": null,
            "flex_flow": null,
            "grid_area": null,
            "grid_auto_columns": null,
            "grid_auto_flow": null,
            "grid_auto_rows": null,
            "grid_column": null,
            "grid_gap": null,
            "grid_row": null,
            "grid_template_areas": null,
            "grid_template_columns": null,
            "grid_template_rows": null,
            "height": null,
            "justify_content": null,
            "justify_items": null,
            "left": null,
            "margin": null,
            "max_height": null,
            "max_width": null,
            "min_height": null,
            "min_width": null,
            "object_fit": null,
            "object_position": null,
            "order": null,
            "overflow": null,
            "overflow_x": null,
            "overflow_y": null,
            "padding": null,
            "right": null,
            "top": null,
            "visibility": null,
            "width": null
          }
        },
        "98422b5880c54dabacb762dac81dd339": {
          "model_module": "@jupyter-widgets/controls",
          "model_name": "ProgressStyleModel",
          "model_module_version": "1.5.0",
          "state": {
            "_model_module": "@jupyter-widgets/controls",
            "_model_module_version": "1.5.0",
            "_model_name": "ProgressStyleModel",
            "_view_count": null,
            "_view_module": "@jupyter-widgets/base",
            "_view_module_version": "1.2.0",
            "_view_name": "StyleView",
            "bar_color": null,
            "description_width": ""
          }
        },
        "65141529021a425082e9bedd66c5aede": {
          "model_module": "@jupyter-widgets/base",
          "model_name": "LayoutModel",
          "model_module_version": "1.2.0",
          "state": {
            "_model_module": "@jupyter-widgets/base",
            "_model_module_version": "1.2.0",
            "_model_name": "LayoutModel",
            "_view_count": null,
            "_view_module": "@jupyter-widgets/base",
            "_view_module_version": "1.2.0",
            "_view_name": "LayoutView",
            "align_content": null,
            "align_items": null,
            "align_self": null,
            "border": null,
            "bottom": null,
            "display": null,
            "flex": null,
            "flex_flow": null,
            "grid_area": null,
            "grid_auto_columns": null,
            "grid_auto_flow": null,
            "grid_auto_rows": null,
            "grid_column": null,
            "grid_gap": null,
            "grid_row": null,
            "grid_template_areas": null,
            "grid_template_columns": null,
            "grid_template_rows": null,
            "height": null,
            "justify_content": null,
            "justify_items": null,
            "left": null,
            "margin": null,
            "max_height": null,
            "max_width": null,
            "min_height": null,
            "min_width": null,
            "object_fit": null,
            "object_position": null,
            "order": null,
            "overflow": null,
            "overflow_x": null,
            "overflow_y": null,
            "padding": null,
            "right": null,
            "top": null,
            "visibility": null,
            "width": null
          }
        },
        "e785d0a9ffcd453eaa9caf4cf900895f": {
          "model_module": "@jupyter-widgets/controls",
          "model_name": "DescriptionStyleModel",
          "model_module_version": "1.5.0",
          "state": {
            "_model_module": "@jupyter-widgets/controls",
            "_model_module_version": "1.5.0",
            "_model_name": "DescriptionStyleModel",
            "_view_count": null,
            "_view_module": "@jupyter-widgets/base",
            "_view_module_version": "1.2.0",
            "_view_name": "StyleView",
            "description_width": ""
          }
        }
      }
    }
  },
  "cells": [
    {
      "cell_type": "markdown",
      "source": [
        "#Convolutional Neural Networks and Reinforcement Learning"
      ],
      "metadata": {
        "id": "9Ys_e2iH80I2"
      }
    },
    {
      "cell_type": "markdown",
      "source": [
        "##Convolutional Neural Networks"
      ],
      "metadata": {
        "id": "7M-Qu7rn927G"
      }
    },
    {
      "cell_type": "markdown",
      "source": [
        "###Object Detection in Images"
      ],
      "metadata": {
        "id": "R74NN1dK98zP"
      }
    },
    {
      "cell_type": "markdown",
      "source": [
        "One popular architecture is the Faster R-CNN, however, implementing Faster R-CNN from scratch requires a lot of code and might be quite complex. Alternatively, there are deep learning frameworks, like TensorFlow and PyTorch, that offer pre-trained models. These models can be used out-of-the-box or can be fine-tuned on a specific task."
      ],
      "metadata": {
        "id": "RHlCXd28A_yq"
      }
    },
    {
      "cell_type": "markdown",
      "source": [
        "In this case, we will use TensorFlow's Object Detection API to detect objects in images using a pre-trained model. For this, we need to clone the models repository from TensorFlow's GitHub. TensorFlow's Object Detection API also requires the installation of certain packages. Please follow the installation instructions in this link: https://github.com/tensorflow/models/blob/master/research/object_detection/g3doc/tf2.md . You can also check a step by step tutorial for Tensorflow Object detection API on this link: https://www.youtube.com/watch?v=XoMiveY_1Z4\n",
        "\n",
        "In this example, I'll show you how to use a Faster RCNN and a technique called Transfer Learning to train an object detector on a smaller dataset."
      ],
      "metadata": {
        "id": "dR4bBGabBB2j"
      }
    },
    {
      "cell_type": "code",
      "source": [
        "from google.colab import drive\n",
        "drive.mount('/content/drive/')"
      ],
      "metadata": {
        "colab": {
          "base_uri": "https://localhost:8080/"
        },
        "id": "rCxNNfnQL2pL",
        "outputId": "a8be452d-8912-42cb-f656-e30166d86d88"
      },
      "execution_count": null,
      "outputs": [
        {
          "output_type": "stream",
          "name": "stdout",
          "text": [
            "Mounted at /content/drive/\n"
          ]
        }
      ]
    },
    {
      "cell_type": "code",
      "source": [
        "!pip install pycocotools torch torchvision"
      ],
      "metadata": {
        "colab": {
          "base_uri": "https://localhost:8080/"
        },
        "id": "KHXJDf6jHvX1",
        "outputId": "8fbe80c6-5430-47d2-b149-c979e3c04037"
      },
      "execution_count": null,
      "outputs": [
        {
          "output_type": "stream",
          "name": "stdout",
          "text": [
            "Requirement already satisfied: pycocotools in /usr/local/lib/python3.10/dist-packages (2.0.6)\n",
            "Requirement already satisfied: torch in /usr/local/lib/python3.10/dist-packages (2.0.1+cu118)\n",
            "Requirement already satisfied: torchvision in /usr/local/lib/python3.10/dist-packages (0.15.2+cu118)\n",
            "Requirement already satisfied: matplotlib>=2.1.0 in /usr/local/lib/python3.10/dist-packages (from pycocotools) (3.7.1)\n",
            "Requirement already satisfied: numpy in /usr/local/lib/python3.10/dist-packages (from pycocotools) (1.24.3)\n",
            "Requirement already satisfied: filelock in /usr/local/lib/python3.10/dist-packages (from torch) (3.12.2)\n",
            "Requirement already satisfied: typing-extensions in /usr/local/lib/python3.10/dist-packages (from torch) (4.5.0)\n",
            "Requirement already satisfied: sympy in /usr/local/lib/python3.10/dist-packages (from torch) (1.11.1)\n",
            "Requirement already satisfied: networkx in /usr/local/lib/python3.10/dist-packages (from torch) (3.1)\n",
            "Requirement already satisfied: jinja2 in /usr/local/lib/python3.10/dist-packages (from torch) (3.1.2)\n",
            "Requirement already satisfied: triton==2.0.0 in /usr/local/lib/python3.10/dist-packages (from torch) (2.0.0)\n",
            "Requirement already satisfied: cmake in /usr/local/lib/python3.10/dist-packages (from triton==2.0.0->torch) (3.25.2)\n",
            "Requirement already satisfied: lit in /usr/local/lib/python3.10/dist-packages (from triton==2.0.0->torch) (16.0.6)\n",
            "Requirement already satisfied: requests in /usr/local/lib/python3.10/dist-packages (from torchvision) (2.27.1)\n",
            "Requirement already satisfied: pillow!=8.3.*,>=5.3.0 in /usr/local/lib/python3.10/dist-packages (from torchvision) (8.4.0)\n",
            "Requirement already satisfied: contourpy>=1.0.1 in /usr/local/lib/python3.10/dist-packages (from matplotlib>=2.1.0->pycocotools) (1.1.0)\n",
            "Requirement already satisfied: cycler>=0.10 in /usr/local/lib/python3.10/dist-packages (from matplotlib>=2.1.0->pycocotools) (0.11.0)\n",
            "Requirement already satisfied: fonttools>=4.22.0 in /usr/local/lib/python3.10/dist-packages (from matplotlib>=2.1.0->pycocotools) (4.40.0)\n",
            "Requirement already satisfied: kiwisolver>=1.0.1 in /usr/local/lib/python3.10/dist-packages (from matplotlib>=2.1.0->pycocotools) (1.4.4)\n",
            "Requirement already satisfied: packaging>=20.0 in /usr/local/lib/python3.10/dist-packages (from matplotlib>=2.1.0->pycocotools) (23.1)\n",
            "Requirement already satisfied: pyparsing>=2.3.1 in /usr/local/lib/python3.10/dist-packages (from matplotlib>=2.1.0->pycocotools) (3.1.0)\n",
            "Requirement already satisfied: python-dateutil>=2.7 in /usr/local/lib/python3.10/dist-packages (from matplotlib>=2.1.0->pycocotools) (2.8.2)\n",
            "Requirement already satisfied: MarkupSafe>=2.0 in /usr/local/lib/python3.10/dist-packages (from jinja2->torch) (2.1.3)\n",
            "Requirement already satisfied: urllib3<1.27,>=1.21.1 in /usr/local/lib/python3.10/dist-packages (from requests->torchvision) (1.26.16)\n",
            "Requirement already satisfied: certifi>=2017.4.17 in /usr/local/lib/python3.10/dist-packages (from requests->torchvision) (2023.5.7)\n",
            "Requirement already satisfied: charset-normalizer~=2.0.0 in /usr/local/lib/python3.10/dist-packages (from requests->torchvision) (2.0.12)\n",
            "Requirement already satisfied: idna<4,>=2.5 in /usr/local/lib/python3.10/dist-packages (from requests->torchvision) (3.4)\n",
            "Requirement already satisfied: mpmath>=0.19 in /usr/local/lib/python3.10/dist-packages (from sympy->torch) (1.3.0)\n",
            "Requirement already satisfied: six>=1.5 in /usr/local/lib/python3.10/dist-packages (from python-dateutil>=2.7->matplotlib>=2.1.0->pycocotools) (1.16.0)\n"
          ]
        }
      ]
    },
    {
      "cell_type": "markdown",
      "source": [
        "####Create your own Dataset"
      ],
      "metadata": {
        "id": "ONupnCB3H9w9"
      }
    },
    {
      "cell_type": "markdown",
      "source": [
        "With pycocotools, I created my own Dataset class to load the annotation files and opening the corresponding image."
      ],
      "metadata": {
        "id": "hvFwawwbID61"
      }
    },
    {
      "cell_type": "code",
      "source": [
        "#Import the libraries and packages\n",
        "import os\n",
        "import torch\n",
        "import torch.utils.data\n",
        "import torchvision\n",
        "from PIL import Image\n",
        "from pycocotools.coco import COCO"
      ],
      "metadata": {
        "id": "sCFEe4Q7H7k1"
      },
      "execution_count": null,
      "outputs": []
    },
    {
      "cell_type": "code",
      "source": [
        "#Create the dataset\n",
        "class myOwnDataset(torch.utils.data.Dataset):\n",
        "    def __init__(self, root, annotation, transforms=None): #To initialize the class\n",
        "        self.root = root\n",
        "        self.transforms = transforms\n",
        "        self.coco = COCO(annotation)\n",
        "        self.ids = list(sorted(self.coco.imgs.keys()))\n",
        "\n",
        "    def __getitem__(self, index):  #This will fetch the data sample for a given key\n",
        "        # Own coco file\n",
        "        coco = self.coco\n",
        "        # Image ID\n",
        "        img_id = self.ids[index]\n",
        "        # List: get annotation id from coco\n",
        "        ann_ids = coco.getAnnIds(imgIds=img_id)\n",
        "        # Dictionary: target coco_annotation file for an image\n",
        "        coco_annotation = coco.loadAnns(ann_ids)\n",
        "        # path for input image\n",
        "        path = coco.loadImgs(img_id)[0]['file_name']\n",
        "        # open the input image\n",
        "        img = Image.open(os.path.join(self.root, path))\n",
        "\n",
        "        # number of objects in the image\n",
        "        num_objs = len(coco_annotation)\n",
        "\n",
        "        # Bounding boxes for objects\n",
        "        # In coco format, bbox = [xmin, ymin, width, height]\n",
        "        # In pytorch, the input should be [xmin, ymin, xmax, ymax]\n",
        "        boxes = []\n",
        "        for i in range(num_objs):\n",
        "            xmin = coco_annotation[i]['bbox'][0]\n",
        "            ymin = coco_annotation[i]['bbox'][1]\n",
        "            xmax = xmin + coco_annotation[i]['bbox'][2]\n",
        "            ymax = ymin + coco_annotation[i]['bbox'][3]\n",
        "            boxes.append([xmin, ymin, xmax, ymax])\n",
        "        boxes = torch.as_tensor(boxes, dtype=torch.float32)\n",
        "        # Labels (In my case, I only one class: target class or background)\n",
        "        labels = torch.ones((num_objs,), dtype=torch.int64)\n",
        "        # Tensorise img_id\n",
        "        img_id = torch.tensor([img_id])\n",
        "        # Size of bbox (Rectangular)\n",
        "        areas = []\n",
        "        for i in range(num_objs):\n",
        "            areas.append(coco_annotation[i]['area'])\n",
        "        areas = torch.as_tensor(areas, dtype=torch.float32)\n",
        "        # Iscrowd\n",
        "        iscrowd = torch.zeros((num_objs,), dtype=torch.int64)\n",
        "\n",
        "        # Annotation is in dictionary format\n",
        "        my_annotation = {}\n",
        "        my_annotation[\"boxes\"] = boxes\n",
        "        my_annotation[\"labels\"] = labels\n",
        "        my_annotation[\"image_id\"] = img_id\n",
        "        my_annotation[\"area\"] = areas\n",
        "        my_annotation[\"iscrowd\"] = iscrowd\n",
        "\n",
        "        if self.transforms is not None:\n",
        "            img = self.transforms(img)\n",
        "\n",
        "        return img, my_annotation\n",
        "\n",
        "\n",
        "    def __len__(self):\n",
        "        return len(self.ids)"
      ],
      "metadata": {
        "id": "5YxZaAPEIUmt"
      },
      "execution_count": null,
      "outputs": []
    },
    {
      "cell_type": "markdown",
      "source": [
        "In COCO format, the bounding box is given as [xmin, ymin, width, height]; however, Faster R-CNN in PyTorch expects the bounding box as [xmin, ymin, xmax, ymax]."
      ],
      "metadata": {
        "id": "3kST_wl3JTbl"
      }
    },
    {
      "cell_type": "code",
      "source": [
        "# In my case, just added ToTensor\n",
        "def get_transform():\n",
        "    custom_transforms = []\n",
        "    custom_transforms.append(torchvision.transforms.ToTensor())\n",
        "    return torchvision.transforms.Compose(custom_transforms)"
      ],
      "metadata": {
        "id": "_Sx5IfvNJbI1"
      },
      "execution_count": null,
      "outputs": []
    },
    {
      "cell_type": "markdown",
      "source": [
        "####Setup the dataloaders"
      ],
      "metadata": {
        "id": "B2pXoyyHJ08k"
      }
    },
    {
      "cell_type": "markdown",
      "source": [
        " Once I had created my own Dataset class, it was time to set up a DataLoader."
      ],
      "metadata": {
        "id": "90pCS5LuJdfc"
      }
    },
    {
      "cell_type": "code",
      "source": [
        "# path to your own data and coco file\n",
        "train_data_dir = '/content/drive/MyDrive/lab/Presentations/AI_summer/data/object_detection/my_data/train'\n",
        "train_coco = '/content/drive/MyDrive/lab/Presentations/AI_summer/data/object_detection/my_data/my_train_coco.json'\n",
        "\n",
        "# create own Dataset\n",
        "my_dataset = myOwnDataset(root=train_data_dir,\n",
        "                          annotation=train_coco,\n",
        "                          transforms=get_transform()\n",
        "                          )\n",
        "\n",
        "# collate_fn needs for batch\n",
        "def collate_fn(batch):\n",
        "    return tuple(zip(*batch))\n",
        "\n",
        "# Batch size\n",
        "train_batch_size = 1\n",
        "\n",
        "# own DataLoader\n",
        "data_loader = torch.utils.data.DataLoader(my_dataset,\n",
        "                                          batch_size=train_batch_size,\n",
        "                                          shuffle=True,\n",
        "                                          num_workers=4,\n",
        "                                          collate_fn=collate_fn)"
      ],
      "metadata": {
        "colab": {
          "base_uri": "https://localhost:8080/"
        },
        "id": "S69qghfYJkAc",
        "outputId": "bec40c10-4199-4fff-8ddb-f69a9130fa76"
      },
      "execution_count": null,
      "outputs": [
        {
          "output_type": "stream",
          "name": "stdout",
          "text": [
            "loading annotations into memory...\n",
            "Done (t=0.41s)\n",
            "creating index...\n",
            "index created!\n"
          ]
        },
        {
          "output_type": "stream",
          "name": "stderr",
          "text": [
            "/usr/local/lib/python3.10/dist-packages/torch/utils/data/dataloader.py:560: UserWarning: This DataLoader will create 4 worker processes in total. Our suggested max number of worker in current system is 2, which is smaller than what this DataLoader is going to create. Please be aware that excessive worker creation might get DataLoader running slow or even freeze, lower the worker number to avoid potential slowness/freeze if necessary.\n",
            "  warnings.warn(_create_warning_msg(\n"
          ]
        }
      ]
    },
    {
      "cell_type": "markdown",
      "source": [
        "Let’s check whether our DataLoader pulls images and annotations iteratively."
      ],
      "metadata": {
        "id": "YCyxFI_OJ4Tt"
      }
    },
    {
      "cell_type": "code",
      "source": [
        "# select device (whether GPU or CPU)\n",
        "device = torch.device('cuda') if torch.cuda.is_available() else torch.device('cpu')\n",
        "\n",
        "# DataLoader is iterable over Dataset\n",
        "for imgs, annotations in data_loader:\n",
        "    imgs = list(img.to(device) for img in imgs)\n",
        "    annotations = [{k: v.to(device) for k, v in t.items()} for t in annotations]\n",
        "    print(annotations)"
      ],
      "metadata": {
        "colab": {
          "base_uri": "https://localhost:8080/"
        },
        "id": "qv6vtE5MJ5z8",
        "outputId": "b2345697-7865-42c1-e9ba-1180a229a3c6"
      },
      "execution_count": null,
      "outputs": [
        {
          "output_type": "stream",
          "name": "stdout",
          "text": [
            "[{'boxes': tensor([[216., 188., 381., 358.]]), 'labels': tensor([1]), 'image_id': tensor([1]), 'area': tensor([28050.]), 'iscrowd': tensor([0])}]\n",
            "[{'boxes': tensor([[ 78., 257., 330., 433.]]), 'labels': tensor([1]), 'image_id': tensor([2]), 'area': tensor([44352.]), 'iscrowd': tensor([0])}]\n",
            "[{'boxes': tensor([[144.,  78., 487., 342.]]), 'labels': tensor([1]), 'image_id': tensor([5]), 'area': tensor([90552.]), 'iscrowd': tensor([0])}]\n",
            "[{'boxes': tensor([[113., 153., 439., 382.]]), 'labels': tensor([1]), 'image_id': tensor([4]), 'area': tensor([74654.]), 'iscrowd': tensor([0])}]\n",
            "[{'boxes': tensor([[ 59., 113., 325., 542.]]), 'labels': tensor([1]), 'image_id': tensor([3]), 'area': tensor([114114.]), 'iscrowd': tensor([0])}]\n",
            "[{'boxes': tensor([[140., 188., 306., 293.]]), 'labels': tensor([1]), 'image_id': tensor([0]), 'area': tensor([17430.]), 'iscrowd': tensor([0])}]\n"
          ]
        }
      ]
    },
    {
      "cell_type": "markdown",
      "source": [
        "####Run the model"
      ],
      "metadata": {
        "id": "lV-MxRgVKGfs"
      }
    },
    {
      "cell_type": "markdown",
      "source": [
        "Now we have prepared our own COCO-formatted data, ready for the Faster R-CNN model. It is straight forward to modify a few parameters in order to customise the model (e.g. number of anchor boxes, etc.). A simplified implementation using some lines from the official tutorial is presented below:"
      ],
      "metadata": {
        "id": "13gKBvjIKI1d"
      }
    },
    {
      "cell_type": "code",
      "source": [
        "from torchvision.models.detection.faster_rcnn import FastRCNNPredictor\n",
        "\n",
        "def get_model_instance_segmentation(num_classes):\n",
        "    # load an instance segmentation model pre-trained pre-trained on COCO\n",
        "    model = torchvision.models.detection.fasterrcnn_resnet50_fpn(pretrained=False)\n",
        "    # get number of input features for the classifier\n",
        "    in_features = model.roi_heads.box_predictor.cls_score.in_features\n",
        "    # replace the pre-trained head with a new one\n",
        "    model.roi_heads.box_predictor = FastRCNNPredictor(in_features, num_classes)\n",
        "\n",
        "    return model\n",
        "\n",
        "\n",
        "# 2 classes; Only target class or background\n",
        "num_classes = 2\n",
        "num_epochs = 10\n",
        "model = get_model_instance_segmentation(num_classes)\n",
        "\n",
        "# move model to the right device\n",
        "model.to(device)\n",
        "\n",
        "# parameters\n",
        "params = [p for p in model.parameters() if p.requires_grad]\n",
        "optimizer = torch.optim.SGD(params, lr=0.005, momentum=0.9, weight_decay=0.0005)\n",
        "\n",
        "len_dataloader = len(data_loader)\n",
        "\n",
        "for epoch in range(num_epochs):\n",
        "    model.train()\n",
        "    i = 0\n",
        "    for imgs, annotations in data_loader:\n",
        "        i += 1\n",
        "        imgs = list(img.to(device) for img in imgs)\n",
        "        annotations = [{k: v.to(device) for k, v in t.items()} for t in annotations]\n",
        "        loss_dict = model(imgs, annotations)\n",
        "        losses = sum(loss for loss in loss_dict.values())\n",
        "\n",
        "        optimizer.zero_grad()\n",
        "        losses.backward()\n",
        "        optimizer.step()\n",
        "\n",
        "        print(f'Iteration: {i}/{len_dataloader}, Loss: {losses}')"
      ],
      "metadata": {
        "colab": {
          "base_uri": "https://localhost:8080/"
        },
        "id": "sOwjsd_9KLnE",
        "outputId": "fdb22909-b0c0-41e1-feca-259f9e5736e0"
      },
      "execution_count": null,
      "outputs": [
        {
          "output_type": "stream",
          "name": "stderr",
          "text": [
            "/usr/local/lib/python3.10/dist-packages/torchvision/models/_utils.py:208: UserWarning: The parameter 'pretrained' is deprecated since 0.13 and may be removed in the future, please use 'weights' instead.\n",
            "  warnings.warn(\n",
            "/usr/local/lib/python3.10/dist-packages/torchvision/models/_utils.py:223: UserWarning: Arguments other than a weight enum or `None` for 'weights' are deprecated since 0.13 and may be removed in the future. The current behavior is equivalent to passing `weights=None`.\n",
            "  warnings.warn(msg)\n",
            "Downloading: \"https://download.pytorch.org/models/resnet50-0676ba61.pth\" to /root/.cache/torch/hub/checkpoints/resnet50-0676ba61.pth\n",
            "100%|██████████| 97.8M/97.8M [00:00<00:00, 111MB/s]\n"
          ]
        },
        {
          "output_type": "stream",
          "name": "stdout",
          "text": [
            "Iteration: 1/6, Loss: 1.3358062505722046\n",
            "Iteration: 2/6, Loss: 1.207190752029419\n",
            "Iteration: 3/6, Loss: 1.0312312841415405\n",
            "Iteration: 4/6, Loss: 0.8957648873329163\n",
            "Iteration: 5/6, Loss: 0.8388086557388306\n",
            "Iteration: 6/6, Loss: 0.7017772197723389\n",
            "Iteration: 1/6, Loss: 0.7206340432167053\n",
            "Iteration: 2/6, Loss: 0.4937475621700287\n",
            "Iteration: 3/6, Loss: 0.37934157252311707\n",
            "Iteration: 4/6, Loss: 0.2579633593559265\n",
            "Iteration: 5/6, Loss: 0.14292806386947632\n",
            "Iteration: 6/6, Loss: 0.5215708613395691\n",
            "Iteration: 1/6, Loss: 0.2125845104455948\n",
            "Iteration: 2/6, Loss: 0.23245087265968323\n",
            "Iteration: 3/6, Loss: 0.28680849075317383\n",
            "Iteration: 4/6, Loss: 0.14674566686153412\n",
            "Iteration: 5/6, Loss: 0.138917937874794\n",
            "Iteration: 6/6, Loss: 1.011897087097168\n",
            "Iteration: 1/6, Loss: 0.17154422402381897\n",
            "Iteration: 2/6, Loss: 0.1764150857925415\n",
            "Iteration: 3/6, Loss: 0.22009046375751495\n",
            "Iteration: 4/6, Loss: 0.35481664538383484\n",
            "Iteration: 5/6, Loss: 0.21292901039123535\n",
            "Iteration: 6/6, Loss: 0.2594621181488037\n",
            "Iteration: 1/6, Loss: 0.23517245054244995\n",
            "Iteration: 2/6, Loss: 0.1747448593378067\n",
            "Iteration: 3/6, Loss: 0.2736777365207672\n",
            "Iteration: 4/6, Loss: 0.14668236672878265\n",
            "Iteration: 5/6, Loss: 0.16325151920318604\n",
            "Iteration: 6/6, Loss: 0.23440831899642944\n",
            "Iteration: 1/6, Loss: 0.14446060359477997\n",
            "Iteration: 2/6, Loss: 0.13148032128810883\n",
            "Iteration: 3/6, Loss: 0.13604718446731567\n",
            "Iteration: 4/6, Loss: 0.13673576712608337\n",
            "Iteration: 5/6, Loss: 0.15601548552513123\n",
            "Iteration: 6/6, Loss: 0.22901882231235504\n",
            "Iteration: 1/6, Loss: 0.1447909027338028\n",
            "Iteration: 2/6, Loss: 0.21078097820281982\n",
            "Iteration: 3/6, Loss: 0.10671857744455338\n",
            "Iteration: 4/6, Loss: 0.09274620562791824\n",
            "Iteration: 5/6, Loss: 0.1186298280954361\n",
            "Iteration: 6/6, Loss: 0.21253784000873566\n",
            "Iteration: 1/6, Loss: 0.17135627567768097\n",
            "Iteration: 2/6, Loss: 0.14937300980091095\n",
            "Iteration: 3/6, Loss: 0.17653165757656097\n",
            "Iteration: 4/6, Loss: 0.18591691553592682\n",
            "Iteration: 5/6, Loss: 0.24961897730827332\n",
            "Iteration: 6/6, Loss: 0.18255391716957092\n",
            "Iteration: 1/6, Loss: 0.10399141907691956\n",
            "Iteration: 2/6, Loss: 0.2342853546142578\n",
            "Iteration: 3/6, Loss: 0.17855533957481384\n",
            "Iteration: 4/6, Loss: 0.1691674441099167\n",
            "Iteration: 5/6, Loss: 0.14195366203784943\n",
            "Iteration: 6/6, Loss: 0.12468739598989487\n",
            "Iteration: 1/6, Loss: 0.14120501279830933\n",
            "Iteration: 2/6, Loss: 0.1724938601255417\n",
            "Iteration: 3/6, Loss: 0.08415612578392029\n",
            "Iteration: 4/6, Loss: 0.11293445527553558\n",
            "Iteration: 5/6, Loss: 0.29355886578559875\n",
            "Iteration: 6/6, Loss: 0.12329377233982086\n"
          ]
        }
      ]
    },
    {
      "cell_type": "markdown",
      "source": [
        "###Anomaly Detection in surveillance videos"
      ],
      "metadata": {
        "id": "3zW5ZwKd-AaP"
      }
    },
    {
      "cell_type": "markdown",
      "source": [
        "Anomaly detection is the process of identifying unexpected items or events in data sets, which differ from the norm. And anomaly detection is often applied on unlabeled data which is known as unsupervised anomaly detection. Anomaly detection has two basic assumptions:\n",
        "* Anomalies only occur very rarely in the data.\n",
        "* Their features differ from the normal instances significantly."
      ],
      "metadata": {
        "id": "w1GsR7ypRGIa"
      }
    },
    {
      "cell_type": "markdown",
      "source": [
        "Anomaly Detection in surveillance videos involves learning patterns in normal behavior and identifying deviations from these patterns as anomalies. The idea is to train a model to reconstruct \"normal\" frames and then measure the reconstruction error on new data. If the reconstruction error is high, it could be because the model is seeing an \"anomaly\" it has not seen before.We also need to convert videos into frames before training the model."
      ],
      "metadata": {
        "id": "NkSa1dwLCIfq"
      }
    },
    {
      "cell_type": "markdown",
      "source": [
        "If we want to treat the problem as a binary classification problem, we need labeled data and in this case, collecting labeled data is hard because of the following reasons:\n",
        "* Abnormal events are challenging to obtain due to their rarity.\n",
        "* There is a massive variety of abnormal events, and manually detecting and labeling such events is a difficult task that requires much manpower.\n",
        "\n",
        "The above reasons promoted the need to use unsupervised or semi-supervised methods like dictionary learning, Spatio-temporal features, and autoencoders. Unlike supervised methods, these methods only require unlabeled video footages that contain little or no abnormal events that are easy to obtain in real-world applications."
      ],
      "metadata": {
        "id": "E9cgoyMPB_v0"
      }
    },
    {
      "cell_type": "code",
      "source": [
        "%%capture\n",
        "!pip install opencv-python keras scikit-learn matplotlib numpy"
      ],
      "metadata": {
        "id": "ws_I3UdhlUdN"
      },
      "execution_count": 1,
      "outputs": []
    },
    {
      "cell_type": "markdown",
      "source": [
        "####Let's download the UCSD Anomaly Detection dataset"
      ],
      "metadata": {
        "id": "2B0CNiSdDVOE"
      }
    },
    {
      "cell_type": "markdown",
      "source": [
        "We will use the UCSD anomaly detection dataset, which contains videos acquired with a camera mounted at an elevation, overlooking a pedestrian walkway. In normal settings, these videos contain only pedestrians.\n",
        "* Non-pedestrian entities in the walkway, like bikers, skaters, and small carts.\n",
        "* Unusual pedestrian motion patterns like people walking across a walkway or at the grass surrounding it.\n",
        "\n",
        "The UCSD dataset consists of two parts, ped1 and ped2. We will use the ped1 part for training and testing."
      ],
      "metadata": {
        "id": "BhxtLma-Dvcz"
      }
    },
    {
      "cell_type": "code",
      "source": [
        "#Download the UCSD Anomaly Detection Dataset\n",
        "!wget http://www.svcl.ucsd.edu/projects/anomaly/UCSD_Anomaly_Dataset.tar.gz"
      ],
      "metadata": {
        "id": "hqpBB7qEbNQ0"
      },
      "execution_count": null,
      "outputs": []
    },
    {
      "cell_type": "code",
      "source": [
        "#Extract the tar file\n",
        "!tar -zxvf /content/UCSD_Anomaly_Dataset.tar.gz"
      ],
      "metadata": {
        "id": "3m6fQLwjcBRc"
      },
      "execution_count": null,
      "outputs": []
    },
    {
      "cell_type": "code",
      "source": [
        "import glob\n",
        "import numpy as np\n",
        "from urllib.request import urlopen\n",
        "import tarfile\n",
        "import os\n",
        "import mxnet as mx\n",
        "from mxnet import gluon\n",
        "from PIL import Image\n",
        "from scipy import signal\n",
        "from matplotlib import pyplot as plt"
      ],
      "metadata": {
        "id": "vpipOiQShaTa"
      },
      "execution_count": 1,
      "outputs": []
    },
    {
      "cell_type": "code",
      "source": [
        "if not os.path.isfile(\"UCSD_Anomaly_Dataset.tar.gz\"):\n",
        "  response = urlopen(\"http://www.svcl.ucsd.edu/projects/anomaly/UCSD_Anomaly_Dataset.tar.gz\")\n",
        "  html = response.read()\n",
        "  tar = tarfile.open(\"/content/UCSD_Anomaly_Dataset.tar.gz\")\n",
        "  tar.extractall()\n",
        "  tar.close()"
      ],
      "metadata": {
        "id": "m0yyLMiuhbvr"
      },
      "execution_count": 2,
      "outputs": []
    },
    {
      "cell_type": "markdown",
      "source": [
        "####Convolutional Autoencoder (CAE)"
      ],
      "metadata": {
        "id": "OOkZevA8hvlR"
      }
    },
    {
      "cell_type": "markdown",
      "source": [
        "Let's define the network structure. The encoder consists of two convolutional and two MaxPooling layers. Encoder and Decoder are connected by a fully connected layer. The larger this bottleneck, the more information can be reconstructed. The decoder consists of two Upsampling layers and two Deconvolutions.\n",
        "\n",
        "![image.png](data:image/png;base64,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)"
      ],
      "metadata": {
        "id": "kKhASn19huVC"
      }
    },
    {
      "cell_type": "code",
      "source": [
        "class ConvolutionalAutoencoder(gluon.nn.HybridBlock):\n",
        "\n",
        "    def __init__(self):\n",
        "        super(ConvolutionalAutoencoder, self).__init__()\n",
        "\n",
        "        with self.name_scope():\n",
        "            self.encoder = gluon.nn.HybridSequential()\n",
        "            with self.encoder.name_scope():\n",
        "                self.encoder.add(gluon.nn.Conv2D(32, 5, activation='relu'))\n",
        "                self.encoder.add(gluon.nn.MaxPool2D(2))\n",
        "                self.encoder.add(gluon.nn.Conv2D(32, 5, activation='relu'))\n",
        "                self.encoder.add(gluon.nn.MaxPool2D(2))\n",
        "                self.encoder.add(gluon.nn.Dense(2000))\n",
        "\n",
        "            self.decoder = gluon.nn.HybridSequential()\n",
        "            with self.decoder.name_scope():\n",
        "                self.decoder.add(gluon.nn.Dense(32*22*22, activation='relu'))\n",
        "                self.decoder.add(gluon.nn.HybridLambda(lambda F, x: F.UpSampling(x, scale=2, sample_type='nearest')))\n",
        "                self.decoder.add(gluon.nn.Conv2DTranspose(32, 5, activation='relu'))\n",
        "                self.decoder.add(gluon.nn.HybridLambda(lambda F, x: F.UpSampling(x, scale=2, sample_type='nearest')))\n",
        "                self.decoder.add(gluon.nn.Conv2DTranspose(1, kernel_size=5, activation='sigmoid'))\n",
        "\n",
        "    def hybrid_forward(self, F, x):\n",
        "        x = self.encoder(x)\n",
        "        x = self.decoder[0](x)\n",
        "        x = x.reshape((-1,32,22,22))\n",
        "        x = self.decoder[1:](x)\n",
        "\n",
        "        return x"
      ],
      "metadata": {
        "id": "nfRkoA9ShuEq"
      },
      "execution_count": 3,
      "outputs": []
    },
    {
      "cell_type": "code",
      "source": [
        "ctx = mx.cpu()\n",
        "num_epochs = 30\n",
        "batch_size = 32"
      ],
      "metadata": {
        "id": "CmPzOM38h6QC"
      },
      "execution_count": 4,
      "outputs": []
    },
    {
      "cell_type": "markdown",
      "source": [
        "Images from the folder UCSDped1 have the format 158x238 pixels. They are rescaled to 100x100 and normalized."
      ],
      "metadata": {
        "id": "zz_DKaE3ilBZ"
      }
    },
    {
      "cell_type": "code",
      "source": [
        "files = sorted(glob.glob('/content/UCSD_Anomaly_Dataset.v1p2/UCSDped1/Train/*/*'))\n",
        "a = np.zeros((len(files),1,100,100))\n",
        "\n",
        "for idx, filename in enumerate(files):\n",
        "    im = Image.open(filename)\n",
        "    im = im.resize((100,100))\n",
        "    a[idx,0,:,:] = np.array(im, dtype=np.float32)/255.0\n",
        "\n",
        "dataset = gluon.data.ArrayDataset(mx.nd.array(a, dtype=np.float32))\n",
        "dataloader = gluon.data.DataLoader(dataset, batch_size=batch_size, last_batch='rollover',shuffle=True)\n",
        "print(\"Dataset Loaded Successfully!!\")"
      ],
      "metadata": {
        "id": "wPelw-UbicYK"
      },
      "execution_count": null,
      "outputs": []
    },
    {
      "cell_type": "markdown",
      "source": [
        "Intialize the network and define loss function."
      ],
      "metadata": {
        "id": "PeMYAWU8imnR"
      }
    },
    {
      "cell_type": "code",
      "source": [
        "model = ConvolutionalAutoencoder()\n",
        "model.hybridize()\n",
        "model.collect_params().initialize(mx.init.Xavier('gaussian'), ctx=ctx)\n",
        "loss_function = gluon.loss.L2Loss()\n",
        "optimizer = gluon.Trainer(model.collect_params(), 'adam', {'learning_rate': 1e-4, 'wd': 1e-5})"
      ],
      "metadata": {
        "id": "rDTPRLkPihmC"
      },
      "execution_count": 6,
      "outputs": []
    },
    {
      "cell_type": "markdown",
      "source": [
        "The following code defines the training loop:"
      ],
      "metadata": {
        "id": "U7-iLliiioly"
      }
    },
    {
      "cell_type": "code",
      "source": [
        "from google.colab import drive\n",
        "drive.mount('/content/drive/')"
      ],
      "metadata": {
        "id": "JZ7A_7EsixXS"
      },
      "execution_count": null,
      "outputs": []
    },
    {
      "cell_type": "markdown",
      "source": [
        "####Training the model (CAE)"
      ],
      "metadata": {
        "id": "v2HDYrXhUQzH"
      }
    },
    {
      "cell_type": "code",
      "source": [
        "!pip install mxnet-mkl"
      ],
      "metadata": {
        "id": "-X5aiy7-xQXD"
      },
      "execution_count": null,
      "outputs": []
    },
    {
      "cell_type": "code",
      "source": [
        "import mxnet as mx"
      ],
      "metadata": {
        "id": "uFo0BHXFxe_E"
      },
      "execution_count": 8,
      "outputs": []
    },
    {
      "cell_type": "code",
      "source": [
        "!pip install --upgrade tensorflow"
      ],
      "metadata": {
        "id": "bK1rItQv3YjJ"
      },
      "execution_count": null,
      "outputs": []
    },
    {
      "cell_type": "code",
      "source": [
        "num_epochs=1"
      ],
      "metadata": {
        "id": "Lh99RBnv3oAp"
      },
      "execution_count": 11,
      "outputs": []
    },
    {
      "cell_type": "code",
      "source": [
        "for epoch in range(num_epochs):\n",
        "\n",
        "    for image_batch in dataloader:\n",
        "\n",
        "        image = image_batch.as_in_context(ctx)\n",
        "\n",
        "        with mx.autograd.record():\n",
        "            output = model(image_batch)\n",
        "            loss = loss_function(output, image_batch)\n",
        "\n",
        "        loss.backward()\n",
        "        optimizer.step(image.shape[0])"
      ],
      "metadata": {
        "id": "MqhiQ3PiiqZx"
      },
      "execution_count": 13,
      "outputs": []
    },
    {
      "cell_type": "markdown",
      "source": [
        "Now that the Autoencoder is trained, we can use our test dataset, which contains some anomalies. We focus here on Test024, which is a video sequence with a golf cart that should be detected as anomaly."
      ],
      "metadata": {
        "id": "R6o-TVuVUacf"
      }
    },
    {
      "cell_type": "code",
      "source": [
        "files = sorted(glob.glob('/content/UCSD_Anomaly_Dataset.v1p2/UCSDped1/Test/Test024/*'))\n",
        "\n",
        "a = np.zeros((len(files),1,100,100))\n",
        "\n",
        "for idx,filename in enumerate(files):\n",
        "    im = Image.open(filename)\n",
        "    im = im.resize((100,100))\n",
        "    a[idx,0,:,:] = np.array(im, dtype=np.float32)/255.0\n",
        "\n",
        "dataset = gluon.data.ArrayDataset(mx.nd.array(a, dtype=np.float32))\n",
        "dataloader = gluon.data.DataLoader(dataset, batch_size=1)"
      ],
      "metadata": {
        "id": "u_JwlVIZpi5_"
      },
      "execution_count": 15,
      "outputs": []
    },
    {
      "cell_type": "markdown",
      "source": [
        "A helper function that will plot input and output images and the differnce between them."
      ],
      "metadata": {
        "id": "-ZEeRM7gUiE3"
      }
    },
    {
      "cell_type": "code",
      "source": [
        "def plot(img, output, diff, H, threshold, counter):\n",
        "\n",
        "    fig, (ax0, ax1, ax2,ax3) = plt.subplots(ncols=4, figsize=(10, 5))\n",
        "    ax0.set_axis_off()\n",
        "    ax1.set_axis_off()\n",
        "    ax2.set_axis_off()\n",
        "\n",
        "    ax0.set_title('input image')\n",
        "    ax1.set_title('reconstructed image')\n",
        "    ax2.set_title('diff ')\n",
        "    ax3.set_title('anomalies')\n",
        "\n",
        "    ax0.imshow(img, cmap=plt.cm.gray, interpolation='nearest')\n",
        "    ax1.imshow(output, cmap=plt.cm.gray, interpolation='nearest')\n",
        "    ax2.imshow(diff, cmap=plt.cm.viridis, vmin=0, vmax=255, interpolation='nearest')\n",
        "    ax3.imshow(img, cmap=plt.cm.gray, interpolation='nearest')\n",
        "\n",
        "    x,y = np.where(H > threshold)\n",
        "    ax3.scatter(y,x,color='red',s=0.1)\n",
        "\n",
        "    plt.axis('off')\n",
        "\n",
        "    fig.savefig('/content/drive/MyDrive/lab/Presentations/AI_summer/saved_model/' + str(counter) + '.png')"
      ],
      "metadata": {
        "id": "ECT1qiKnpn7f"
      },
      "execution_count": 16,
      "outputs": []
    },
    {
      "cell_type": "markdown",
      "source": [
        "Let's iterate over the test images. We compute the difference between input and output and create a pixel map H with a 4x4 convolution kernel. If a pixel value in H is larger than 4 times 255 it will be marked as anomaly. The maximum value for each pixel in H is 4x4x255. We perform this step, so that pixels will be marked only when their neighboring pixels are also anomalous."
      ],
      "metadata": {
        "id": "4Pri7h_8rYme"
      }
    },
    {
      "cell_type": "code",
      "source": [
        "threshold = 4*255\n",
        "counter = 0\n",
        "#try:\n",
        " #   os.mkdir(\"images\")\n",
        "#except:\n",
        " #   pass\n",
        "\n",
        "for image in dataloader:\n",
        "\n",
        "    counter = counter + 1\n",
        "    img = image.as_in_context(mx.cpu())\n",
        "\n",
        "    output = model(img)\n",
        "    output = output.transpose((0,2,3,1))\n",
        "    image = image.transpose((0,2,3,1))\n",
        "    output = output.asnumpy()*255\n",
        "    img = image.asnumpy()*255\n",
        "    diff = np.abs(output-img)\n",
        "\n",
        "    tmp = diff[0,:,:,0]\n",
        "    H = signal.convolve2d(tmp, np.ones((4,4)), mode='same')\n",
        "\n",
        "    plot(img[0,:,:,0], output[0,:,:,0], diff[0,:,:,0], H, threshold, counter)\n",
        "    break"
      ],
      "metadata": {
        "colab": {
          "base_uri": "https://localhost:8080/",
          "height": 227
        },
        "id": "-5Xda7zerZ42",
        "outputId": "b1b1a064-0d1d-4abd-d771-bd41d7e2a791"
      },
      "execution_count": 17,
      "outputs": [
        {
          "output_type": "display_data",
          "data": {
            "text/plain": [
              "<Figure size 1000x500 with 4 Axes>"
            ],
            "image/png": "[encoded data removed]"
          },
          "metadata": {}
        }
      ]
    },
    {
      "cell_type": "markdown",
      "source": [
        "##Reinforcement Learning"
      ],
      "metadata": {
        "id": "N5u8zo__-HVn"
      }
    },
    {
      "cell_type": "markdown",
      "source": [
        "###Game playing AI"
      ],
      "metadata": {
        "id": "xXqzF_A8-KkX"
      }
    },
    {
      "cell_type": "markdown",
      "source": [
        "Let's use OpenAI's Gym library to create a simple game-playing AI for the game of CartPole.\n",
        "\n",
        "A pole is attached by an unactuated joint to a cart, which moves along a frictionless track. The system controlled by applying force of +1 or -1 (the agent can apply forces to the left or right) to the cart. The pendulum starts upright, and the goal is to balance the pendulum and prevent it from falling over.\n",
        "\n",
        "A reward of +1 is provided for every timestep that the pole remains upright. The episode ends when the pole is more than 15 degrees from vertical, or the cart moves more than 2.4 units from the center."
      ],
      "metadata": {
        "id": "IK9PqT3EJLmt"
      }
    },
    {
      "cell_type": "markdown",
      "source": [
        "This is not really complex but is a good example to illustrate the principles of reinforcement learning."
      ],
      "metadata": {
        "id": "CCH5-Lp8JPbt"
      }
    },
    {
      "cell_type": "markdown",
      "source": [
        "This is an example of a Q-learning agent for the CartPole-v1 environment. The agent uses a table to store the quality (Q-value) of each action in each state. It learns by updating these values based on the reward it receives."
      ],
      "metadata": {
        "id": "PJkQNc7jJbu8"
      }
    },
    {
      "cell_type": "markdown",
      "source": [
        "Setup rendering dependencies for Google Colaboratory."
      ],
      "metadata": {
        "id": "uun7gvWYif6y"
      }
    },
    {
      "cell_type": "code",
      "source": [
        "!pip install gym pyvirtualdisplay > /dev/null 2>&1\n",
        "!pip install gym[classic_control] > /dev/null 2>&1\n",
        "!apt-get install -y xvfb python-opengl ffmpeg > /dev/null 2>&1"
      ],
      "metadata": {
        "id": "XUmA0ok_ihwR"
      },
      "execution_count": 4,
      "outputs": []
    },
    {
      "cell_type": "code",
      "source": [
        "!pip install d3rlpy"
      ],
      "metadata": {
        "colab": {
          "base_uri": "https://localhost:8080/"
        },
        "id": "6otq81lvijxZ",
        "outputId": "a3f0ffb4-77cd-4cd0-c26b-e59920aae6a2"
      },
      "execution_count": 5,
      "outputs": [
        {
          "output_type": "stream",
          "name": "stdout",
          "text": [
            "Collecting d3rlpy\n",
            "  Downloading d3rlpy-1.1.1.tar.gz (317 kB)\n",
            "\u001b[2K     \u001b[90m━━━━━━━━━━━━━━━━━━━━━━━━━━━━━━━━━━━━━━\u001b[0m \u001b[32m317.6/317.6 kB\u001b[0m \u001b[31m27.3 MB/s\u001b[0m eta \u001b[36m0:00:00\u001b[0m\n",
            "\u001b[?25h  Preparing metadata (setup.py) ... \u001b[?25l\u001b[?25hdone\n",
            "Requirement already satisfied: torch in /usr/local/lib/python3.10/dist-packages (from d3rlpy) (2.0.1+cu118)\n",
            "Requirement already satisfied: scikit-learn in /usr/local/lib/python3.10/dist-packages (from d3rlpy) (1.2.2)\n",
            "Collecting tensorboardX (from d3rlpy)\n",
            "  Downloading tensorboardX-2.6.1-py2.py3-none-any.whl (101 kB)\n",
            "\u001b[2K     \u001b[90m━━━━━━━━━━━━━━━━━━━━━━━━━━━━━━━━━━━━━━\u001b[0m \u001b[32m101.6/101.6 kB\u001b[0m \u001b[31m14.3 MB/s\u001b[0m eta \u001b[36m0:00:00\u001b[0m\n",
            "\u001b[?25hRequirement already satisfied: tqdm in /usr/local/lib/python3.10/dist-packages (from d3rlpy) (4.65.0)\n",
            "Requirement already satisfied: h5py in /usr/local/lib/python3.10/dist-packages (from d3rlpy) (3.8.0)\n",
            "Requirement already satisfied: gym in /usr/local/lib/python3.10/dist-packages (from d3rlpy) (0.25.2)\n",
            "Requirement already satisfied: click in /usr/local/lib/python3.10/dist-packages (from d3rlpy) (8.1.4)\n",
            "Requirement already satisfied: typing-extensions in /usr/local/lib/python3.10/dist-packages (from d3rlpy) (4.7.1)\n",
            "Requirement already satisfied: scipy in /usr/local/lib/python3.10/dist-packages (from d3rlpy) (1.10.1)\n",
            "Collecting structlog (from d3rlpy)\n",
            "  Downloading structlog-23.1.0-py3-none-any.whl (62 kB)\n",
            "\u001b[2K     \u001b[90m━━━━━━━━━━━━━━━━━━━━━━━━━━━━━━━━━━━━━━━━\u001b[0m \u001b[32m62.4/62.4 kB\u001b[0m \u001b[31m7.9 MB/s\u001b[0m eta \u001b[36m0:00:00\u001b[0m\n",
            "\u001b[?25hCollecting colorama (from d3rlpy)\n",
            "  Downloading colorama-0.4.6-py2.py3-none-any.whl (25 kB)\n",
            "Requirement already satisfied: numpy>=1.18.0 in /usr/local/lib/python3.10/dist-packages (from gym->d3rlpy) (1.22.4)\n",
            "Requirement already satisfied: cloudpickle>=1.2.0 in /usr/local/lib/python3.10/dist-packages (from gym->d3rlpy) (2.2.1)\n",
            "Requirement already satisfied: gym-notices>=0.0.4 in /usr/local/lib/python3.10/dist-packages (from gym->d3rlpy) (0.0.8)\n",
            "Requirement already satisfied: joblib>=1.1.1 in /usr/local/lib/python3.10/dist-packages (from scikit-learn->d3rlpy) (1.3.1)\n",
            "Requirement already satisfied: threadpoolctl>=2.0.0 in /usr/local/lib/python3.10/dist-packages (from scikit-learn->d3rlpy) (3.1.0)\n",
            "Requirement already satisfied: packaging in /usr/local/lib/python3.10/dist-packages (from tensorboardX->d3rlpy) (23.1)\n",
            "Collecting protobuf>=4.22.3 (from tensorboardX->d3rlpy)\n",
            "  Downloading protobuf-4.23.4-cp37-abi3-manylinux2014_x86_64.whl (304 kB)\n",
            "\u001b[2K     \u001b[90m━━━━━━━━━━━━━━━━━━━━━━━━━━━━━━━━━━━━━━\u001b[0m \u001b[32m304.5/304.5 kB\u001b[0m \u001b[31m34.7 MB/s\u001b[0m eta \u001b[36m0:00:00\u001b[0m\n",
            "\u001b[?25hRequirement already satisfied: filelock in /usr/local/lib/python3.10/dist-packages (from torch->d3rlpy) (3.12.2)\n",
            "Requirement already satisfied: sympy in /usr/local/lib/python3.10/dist-packages (from torch->d3rlpy) (1.11.1)\n",
            "Requirement already satisfied: networkx in /usr/local/lib/python3.10/dist-packages (from torch->d3rlpy) (3.1)\n",
            "Requirement already satisfied: jinja2 in /usr/local/lib/python3.10/dist-packages (from torch->d3rlpy) (3.1.2)\n",
            "Requirement already satisfied: triton==2.0.0 in /usr/local/lib/python3.10/dist-packages (from torch->d3rlpy) (2.0.0)\n",
            "Requirement already satisfied: cmake in /usr/local/lib/python3.10/dist-packages (from triton==2.0.0->torch->d3rlpy) (3.25.2)\n",
            "Requirement already satisfied: lit in /usr/local/lib/python3.10/dist-packages (from triton==2.0.0->torch->d3rlpy) (16.0.6)\n",
            "Requirement already satisfied: MarkupSafe>=2.0 in /usr/local/lib/python3.10/dist-packages (from jinja2->torch->d3rlpy) (2.1.3)\n",
            "Requirement already satisfied: mpmath>=0.19 in /usr/local/lib/python3.10/dist-packages (from sympy->torch->d3rlpy) (1.3.0)\n",
            "Building wheels for collected packages: d3rlpy\n",
            "  Building wheel for d3rlpy (setup.py) ... \u001b[?25l\u001b[?25hdone\n",
            "  Created wheel for d3rlpy: filename=d3rlpy-1.1.1-cp310-cp310-linux_x86_64.whl size=1257969 sha256=929c28a170d4f515598671340775e88da5ed5ef62cd3960df4d287ab3c094ac2\n",
            "  Stored in directory: /root/.cache/pip/wheels/fb/44/c4/aab790777bd0d1358b9e8cc391621a4e0e2b10e7cd03406ad6\n",
            "Successfully built d3rlpy\n",
            "Installing collected packages: structlog, protobuf, colorama, tensorboardX, d3rlpy\n",
            "  Attempting uninstall: protobuf\n",
            "    Found existing installation: protobuf 3.20.3\n",
            "    Uninstalling protobuf-3.20.3:\n",
            "      Successfully uninstalled protobuf-3.20.3\n",
            "Successfully installed colorama-0.4.6 d3rlpy-1.1.1 protobuf-4.23.4 structlog-23.1.0 tensorboardX-2.6.1\n"
          ]
        }
      ]
    },
    {
      "cell_type": "code",
      "source": [
        "%%capture\n",
        "!pip install gym stable_baselines3 shimmy"
      ],
      "metadata": {
        "id": "MoFqMDWoyOkq"
      },
      "execution_count": 1,
      "outputs": []
    },
    {
      "cell_type": "code",
      "source": [
        "# Import necessary libraries\n",
        "import gym\n",
        "import numpy as np\n",
        "from stable_baselines3 import PPO\n",
        "from stable_baselines3.common.vec_env import DummyVecEnv\n",
        "from stable_baselines3.common.evaluation import evaluate_policy"
      ],
      "metadata": {
        "id": "gwNAwDjb-L7_"
      },
      "execution_count": 7,
      "outputs": []
    },
    {
      "cell_type": "code",
      "source": [
        "from d3rlpy.datasets import get_cartpole\n",
        "\n",
        "# get CartPole dataset\n",
        "dataset, env = get_cartpole()"
      ],
      "metadata": {
        "colab": {
          "base_uri": "https://localhost:8080/"
        },
        "id": "MyU4O4L5ireo",
        "outputId": "a21d4286-99c1-4567-f8aa-76950618a6c4"
      },
      "execution_count": 6,
      "outputs": [
        {
          "output_type": "stream",
          "name": "stderr",
          "text": [
            "/usr/local/lib/python3.10/dist-packages/google/rpc/__init__.py:20: DeprecationWarning: Deprecated call to `pkg_resources.declare_namespace('google.rpc')`.\n",
            "Implementing implicit namespace packages (as specified in PEP 420) is preferred to `pkg_resources.declare_namespace`. See https://setuptools.pypa.io/en/latest/references/keywords.html#keyword-namespace-packages\n",
            "  pkg_resources.declare_namespace(__name__)\n",
            "/usr/local/lib/python3.10/dist-packages/pkg_resources/__init__.py:2349: DeprecationWarning: Deprecated call to `pkg_resources.declare_namespace('google')`.\n",
            "Implementing implicit namespace packages (as specified in PEP 420) is preferred to `pkg_resources.declare_namespace`. See https://setuptools.pypa.io/en/latest/references/keywords.html#keyword-namespace-packages\n",
            "  declare_namespace(parent)\n"
          ]
        },
        {
          "output_type": "stream",
          "name": "stdout",
          "text": [
            "Downloading cartpole.pkl into d3rlpy_data/cartpole_replay_v1.1.0.h5...\n"
          ]
        },
        {
          "output_type": "stream",
          "name": "stderr",
          "text": [
            "/usr/local/lib/python3.10/dist-packages/gym/envs/registration.py:593: UserWarning: \u001b[33mWARN: The environment CartPole-v0 is out of date. You should consider upgrading to version `v1`.\u001b[0m\n",
            "  logger.warn(\n",
            "/usr/local/lib/python3.10/dist-packages/gym/core.py:317: DeprecationWarning: \u001b[33mWARN: Initializing wrapper in old step API which returns one bool instead of two. It is recommended to set `new_step_api=True` to use new step API. This will be the default behaviour in future.\u001b[0m\n",
            "  deprecation(\n",
            "/usr/local/lib/python3.10/dist-packages/gym/wrappers/step_api_compatibility.py:39: DeprecationWarning: \u001b[33mWARN: Initializing environment in old step API which returns one bool instead of two. It is recommended to set `new_step_api=True` to use new step API. This will be the default behaviour in future.\u001b[0m\n",
            "  deprecation(\n"
          ]
        }
      ]
    },
    {
      "cell_type": "code",
      "source": [
        "env_name= 'CartPole-v0'\n",
        "env=gym.make(env_name)"
      ],
      "metadata": {
        "colab": {
          "base_uri": "https://localhost:8080/"
        },
        "id": "Y_8VwG06dMec",
        "outputId": "9f99e7a2-1d48-4edc-81bf-0d51dee0e8aa"
      },
      "execution_count": 3,
      "outputs": [
        {
          "output_type": "stream",
          "name": "stderr",
          "text": [
            "/usr/local/lib/python3.10/dist-packages/gym/envs/registration.py:593: UserWarning: \u001b[33mWARN: The environment CartPole-v0 is out of date. You should consider upgrading to version `v1`.\u001b[0m\n",
            "  logger.warn(\n",
            "/usr/local/lib/python3.10/dist-packages/gym/core.py:317: DeprecationWarning: \u001b[33mWARN: Initializing wrapper in old step API which returns one bool instead of two. It is recommended to set `new_step_api=True` to use new step API. This will be the default behaviour in future.\u001b[0m\n",
            "  deprecation(\n",
            "/usr/local/lib/python3.10/dist-packages/gym/wrappers/step_api_compatibility.py:39: DeprecationWarning: \u001b[33mWARN: Initializing environment in old step API which returns one bool instead of two. It is recommended to set `new_step_api=True` to use new step API. This will be the default behaviour in future.\u001b[0m\n",
            "  deprecation(\n"
          ]
        }
      ]
    },
    {
      "cell_type": "code",
      "source": [
        "from d3rlpy.algos import DiscreteCQL\n",
        "from d3rlpy.metrics.scorer import discounted_sum_of_advantage_scorer\n",
        "from d3rlpy.metrics.scorer import evaluate_on_environment\n",
        "from d3rlpy.metrics.scorer import td_error_scorer\n",
        "from d3rlpy.metrics.scorer import average_value_estimation_scorer\n",
        "from sklearn.model_selection import train_test_split\n",
        "\n",
        "# setup CQL algorithm\n",
        "cql = DiscreteCQL(use_gpu=False)\n",
        "\n",
        "# split train and test episodes\n",
        "train_episodes, test_episodes = train_test_split(dataset, test_size=0.2)\n",
        "\n",
        "# start training\n",
        "cql.fit(train_episodes,\n",
        "        eval_episodes=test_episodes,\n",
        "        n_epochs=1,\n",
        "        scorers={\n",
        "            'environment': evaluate_on_environment(env), # evaluate with CartPol-v0 environment\n",
        "            'advantage': discounted_sum_of_advantage_scorer, # smaller is better\n",
        "            'td_error': td_error_scorer, # smaller is better\n",
        "            'value_scale': average_value_estimation_scorer # smaller is better\n",
        "        })"
      ],
      "metadata": {
        "colab": {
          "base_uri": "https://localhost:8080/",
          "height": 346,
          "referenced_widgets": [
            "0a5eacc4e35a4c4b916e8c43c13d2ce6",
            "7014644243854e968bde2a068da0b473",
            "32b4ed953b28495a8971838682a8ce2f",
            "7a786313a88c446dbba7b736f4a2e5ee",
            "5905c7916f114db298c153f8bb3fca13",
            "86e894a87c844de1893613086e451c83",
            "b91c3d18e38340b7afabbb3e68627c12",
            "dde03b32304d47fdafc3f3f9f81cec92",
            "98422b5880c54dabacb762dac81dd339",
            "65141529021a425082e9bedd66c5aede",
            "e785d0a9ffcd453eaa9caf4cf900895f"
          ]
        },
        "id": "ThKZO8Imdbko",
        "outputId": "368f6ffa-6c20-489a-bbce-c3b2345ff341"
      },
      "execution_count": 8,
      "outputs": [
        {
          "output_type": "stream",
          "name": "stdout",
          "text": [
            "2023-07-17 06:30:31 [debug    ] RoundIterator is selected.\n",
            "2023-07-17 06:30:31 [info     ] Directory is created at d3rlpy_logs/DiscreteCQL_20230717063031\n",
            "2023-07-17 06:30:31 [debug    ] Building models...\n",
            "2023-07-17 06:30:31 [debug    ] Models have been built.\n",
            "2023-07-17 06:30:31 [info     ] Parameters are saved to d3rlpy_logs/DiscreteCQL_20230717063031/params.json params={'action_scaler': None, 'alpha': 1.0, 'batch_size': 32, 'encoder_factory': {'type': 'default', 'params': {'activation': 'relu', 'use_batch_norm': False, 'dropout_rate': None}}, 'gamma': 0.99, 'generated_maxlen': 100000, 'learning_rate': 6.25e-05, 'n_critics': 1, 'n_frames': 1, 'n_steps': 1, 'optim_factory': {'optim_cls': 'Adam', 'betas': (0.9, 0.999), 'eps': 1e-08, 'weight_decay': 0, 'amsgrad': False}, 'q_func_factory': {'type': 'mean', 'params': {'share_encoder': False}}, 'real_ratio': 1.0, 'reward_scaler': None, 'scaler': None, 'target_update_interval': 8000, 'use_gpu': None, 'algorithm': 'DiscreteCQL', 'observation_shape': (4,), 'action_size': 2}\n"
          ]
        },
        {
          "output_type": "display_data",
          "data": {
            "text/plain": [
              "Epoch 1/1:   0%|          | 0/2478 [00:00<?, ?it/s]"
            ],
            "application/vnd.jupyter.widget-view+json": {
              "version_major": 2,
              "version_minor": 0,
              "model_id": "0a5eacc4e35a4c4b916e8c43c13d2ce6"
            }
          },
          "metadata": {}
        },
        {
          "output_type": "stream",
          "name": "stdout",
          "text": [
            "2023-07-17 06:30:47 [info     ] DiscreteCQL_20230717063031: epoch=1 step=2478 epoch=1 metrics={'time_sample_batch': 0.00011450855649219972, 'time_algorithm_update': 0.0050337603248060475, 'loss': 0.6891045340662334, 'time_step': 0.005248733063298334, 'environment': 200.0, 'advantage': -2.904268614069189, 'td_error': 1.156099532062283, 'value_scale': 1.1320540201514997} step=2478\n",
            "2023-07-17 06:30:47 [info     ] Model parameters are saved to d3rlpy_logs/DiscreteCQL_20230717063031/model_2478.pt\n"
          ]
        },
        {
          "output_type": "execute_result",
          "data": {
            "text/plain": [
              "[(1,\n",
              "  {'time_sample_batch': 0.00011450855649219972,\n",
              "   'time_algorithm_update': 0.0050337603248060475,\n",
              "   'loss': 0.6891045340662334,\n",
              "   'time_step': 0.005248733063298334,\n",
              "   'environment': 200.0,\n",
              "   'advantage': -2.904268614069189,\n",
              "   'td_error': 1.156099532062283,\n",
              "   'value_scale': 1.1320540201514997})]"
            ]
          },
          "metadata": {},
          "execution_count": 8
        }
      ]
    },
    {
      "cell_type": "code",
      "source": [
        "import glob\n",
        "import io\n",
        "import base64\n",
        "\n",
        "from gym.wrappers import RecordVideo\n",
        "from IPython.display import HTML\n",
        "from IPython import display as ipythondisplay\n",
        "from pyvirtualdisplay import Display\n",
        "\n",
        "# start virtual display\n",
        "display = Display(visible=0, size=(1400, 900))\n",
        "display.start()\n",
        "\n",
        "# play recorded video\n",
        "def show_video():\n",
        "    mp4list = glob.glob('video/*.mp4')\n",
        "    if len(mp4list) > 0:\n",
        "        mp4 = mp4list[0]\n",
        "        video = io.open(mp4, 'r+b').read()\n",
        "        encoded = base64.b64encode(video)\n",
        "        ipythondisplay.display(HTML(data='''\n",
        "            <video alt=\"test\" autoplay loop controls style=\"height: 400px;\">\n",
        "                <source src=\"data:video/mp4;base64,{0}\" type=\"video/mp4\" />\n",
        "            </video>'''.format(encoded.decode('ascii'))))\n",
        "    else:\n",
        "        print(\"Could not find video\")"
      ],
      "metadata": {
        "id": "CCXlDKrFi58v"
      },
      "execution_count": 9,
      "outputs": []
    },
    {
      "cell_type": "code",
      "source": [
        "# wrap RecordVideo wrapper\n",
        "env = RecordVideo(env, './video')\n",
        "\n",
        "# evaluate\n",
        "evaluate_on_environment(env)(cql)"
      ],
      "metadata": {
        "colab": {
          "base_uri": "https://localhost:8080/"
        },
        "id": "EeYiVi60e1QK",
        "outputId": "403348d4-e96f-40f4-a617-368558c7585f"
      },
      "execution_count": 10,
      "outputs": [
        {
          "output_type": "stream",
          "name": "stderr",
          "text": [
            "/usr/local/lib/python3.10/dist-packages/gym/core.py:317: DeprecationWarning: \u001b[33mWARN: Initializing wrapper in old step API which returns one bool instead of two. It is recommended to set `new_step_api=True` to use new step API. This will be the default behaviour in future.\u001b[0m\n",
            "  deprecation(\n",
            "/usr/local/lib/python3.10/dist-packages/gym/wrappers/monitoring/video_recorder.py:78: DeprecationWarning: \u001b[33mWARN: Recording ability for environment CartPole-v0 initialized with `render_mode=None` is marked as deprecated and will be removed in the future.\u001b[0m\n",
            "  logger.deprecation(\n",
            "/usr/local/lib/python3.10/dist-packages/gym/core.py:43: DeprecationWarning: \u001b[33mWARN: The argument mode in render method is deprecated; use render_mode during environment initialization instead.\n",
            "See here for more information: https://www.gymlibrary.ml/content/api/\u001b[0m\n",
            "  deprecation(\n",
            "/usr/local/lib/python3.10/dist-packages/gym/core.py:43: DeprecationWarning: \u001b[33mWARN: The argument mode in render method is deprecated; use render_mode during environment initialization instead.\n",
            "See here for more information: https://www.gymlibrary.ml/content/api/\u001b[0m\n",
            "  deprecation(\n",
            "/usr/local/lib/python3.10/dist-packages/gym/wrappers/monitoring/video_recorder.py:78: DeprecationWarning: \u001b[33mWARN: Recording ability for environment CartPole-v0 initialized with `render_mode=None` is marked as deprecated and will be removed in the future.\u001b[0m\n",
            "  logger.deprecation(\n",
            "/usr/local/lib/python3.10/dist-packages/gym/core.py:43: DeprecationWarning: \u001b[33mWARN: The argument mode in render method is deprecated; use render_mode during environment initialization instead.\n",
            "See here for more information: https://www.gymlibrary.ml/content/api/\u001b[0m\n",
            "  deprecation(\n",
            "/usr/local/lib/python3.10/dist-packages/gym/wrappers/monitoring/video_recorder.py:78: DeprecationWarning: \u001b[33mWARN: Recording ability for environment CartPole-v0 initialized with `render_mode=None` is marked as deprecated and will be removed in the future.\u001b[0m\n",
            "  logger.deprecation(\n",
            "/usr/local/lib/python3.10/dist-packages/gym/core.py:43: DeprecationWarning: \u001b[33mWARN: The argument mode in render method is deprecated; use render_mode during environment initialization instead.\n",
            "See here for more information: https://www.gymlibrary.ml/content/api/\u001b[0m\n",
            "  deprecation(\n"
          ]
        },
        {
          "output_type": "execute_result",
          "data": {
            "text/plain": [
              "200.0"
            ]
          },
          "metadata": {},
          "execution_count": 10
        }
      ]
    },
    {
      "cell_type": "code",
      "source": [
        "show_video()"
      ],
      "metadata": {
        "colab": {
          "base_uri": "https://localhost:8080/",
          "height": 422
        },
        "id": "w__gZFGmjAO4",
        "outputId": "ab8714fb-bc31-4e33-83cc-ba0501eb5bc1"
      },
      "execution_count": 11,
      "outputs": [
        {
          "output_type": "display_data",
          "data": {
            "text/plain": [
              "<IPython.core.display.HTML object>"
            ],
            "text/html": [
              "\n",
              "            <video alt=\"test\" autoplay loop controls style=\"height: 400px;\">\n",
              "                <source src=\"data:video/mp4;base64,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\" type=\"video/mp4\" />\n",
              "            </video>"
            ]
          },
          "metadata": {}
        }
      ]
    }
  ]
}